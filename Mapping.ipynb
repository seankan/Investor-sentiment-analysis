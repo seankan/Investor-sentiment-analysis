{
 "cells": [
  {
   "cell_type": "code",
   "execution_count": 13,
   "metadata": {},
   "outputs": [
    {
     "name": "stderr",
     "output_type": "stream",
     "text": [
      "\u001b[32m[2021-04-14 17:56:55,343] [    INFO]\u001b[0m - Request Hub-Server successfully.\u001b[0m\n",
      "\u001b[33m[2021-04-14 17:56:55,415] [ WARNING]\u001b[0m - The _initialize method in HubModule will soon be deprecated, you can use the __init__() to handle the initialization of the object\u001b[0m\n"
     ]
    }
   ],
   "source": [
    "import paddlehub\n",
    "paddlehub.server_check()\n",
    "module = paddlehub.Module(name=\"emotion_detection_textcnn\")"
   ]
  },
  {
   "cell_type": "code",
   "execution_count": 14,
   "metadata": {},
   "outputs": [],
   "source": [
    "import pandas as pd\n",
    "import numpy as np"
   ]
  },
  {
   "cell_type": "code",
   "execution_count": 177,
   "metadata": {},
   "outputs": [
    {
     "name": "stderr",
     "output_type": "stream",
     "text": [
      "C:\\Users\\user\\anaconda3\\lib\\site-packages\\ipykernel\\ipkernel.py:287: DeprecationWarning: `should_run_async` will not call `transform_cell` automatically in the future. Please pass the result to `transformed_cell` argument and any exception that happen during thetransform in `preprocessing_exc_tuple` in IPython 7.17 and above.\n",
      "  and should_run_async(code)\n"
     ]
    }
   ],
   "source": [
    "date = str(20160825)"
   ]
  },
  {
   "cell_type": "code",
   "execution_count": 178,
   "metadata": {},
   "outputs": [],
   "source": [
    "data = pd.read_csv(\"guba_data/guba_data/guba_by_date/\"+date+\".csv\")"
   ]
  },
  {
   "cell_type": "code",
   "execution_count": 201,
   "metadata": {},
   "outputs": [
    {
     "name": "stderr",
     "output_type": "stream",
     "text": [
      "C:\\Users\\user\\anaconda3\\lib\\site-packages\\ipykernel\\ipkernel.py:287: DeprecationWarning: `should_run_async` will not call `transform_cell` automatically in the future. Please pass the result to `transformed_cell` argument and any exception that happen during thetransform in `preprocessing_exc_tuple` in IPython 7.17 and above.\n",
      "  and should_run_async(code)\n",
      "<ipython-input-201-03bd3365afa0>:14: SettingWithCopyWarning: \n",
      "A value is trying to be set on a copy of a slice from a DataFrame\n",
      "\n",
      "See the caveats in the documentation: https://pandas.pydata.org/pandas-docs/stable/user_guide/indexing.html#returning-a-view-versus-a-copy\n",
      "  data[\"predicted\"][i] = result[\"emotion_label\"]\n",
      "<ipython-input-201-03bd3365afa0>:15: SettingWithCopyWarning: \n",
      "A value is trying to be set on a copy of a slice from a DataFrame\n",
      "\n",
      "See the caveats in the documentation: https://pandas.pydata.org/pandas-docs/stable/user_guide/indexing.html#returning-a-view-versus-a-copy\n",
      "  data['positive_probs'][i] = result['positive_probs']\n"
     ]
    }
   ],
   "source": [
    "data[\"predicted\"]= np.zeros\n",
    "data[\"positive_probs\"] = np.zeros\n",
    "# data[\"negative_probs\"] = np.zeros\n",
    "# data[\"neutral_probs\"] = np.zeros\n",
    "for i in range(len(data)):\n",
    "    if type(data[\"ct\"][i]) == str:\n",
    "        results = module.emotion_classify(texts = [data[\"ct\"][i]])\n",
    "\n",
    "    for result in results:\n",
    "        data[\"predicted\"][i] = result[\"emotion_label\"]\n",
    "        data['positive_probs'][i] = result['positive_probs']\n",
    "#         data[\"negative_probs\"][i] = result[\"negative_probs\"]\n",
    "#         data[\"neutral_probs\"][i] = result[\"neutral_probs\"]"
   ]
  },
  {
   "cell_type": "code",
   "execution_count": 205,
   "metadata": {},
   "outputs": [
    {
     "name": "stderr",
     "output_type": "stream",
     "text": [
      "C:\\Users\\user\\anaconda3\\lib\\site-packages\\ipykernel\\ipkernel.py:287: DeprecationWarning: `should_run_async` will not call `transform_cell` automatically in the future. Please pass the result to `transformed_cell` argument and any exception that happen during thetransform in `preprocessing_exc_tuple` in IPython 7.17 and above.\n",
      "  and should_run_async(code)\n"
     ]
    },
    {
     "data": {
      "text/html": [
       "<div>\n",
       "<style scoped>\n",
       "    .dataframe tbody tr th:only-of-type {\n",
       "        vertical-align: middle;\n",
       "    }\n",
       "\n",
       "    .dataframe tbody tr th {\n",
       "        vertical-align: top;\n",
       "    }\n",
       "\n",
       "    .dataframe thead th {\n",
       "        text-align: right;\n",
       "    }\n",
       "</style>\n",
       "<table border=\"1\" class=\"dataframe\">\n",
       "  <thead>\n",
       "    <tr style=\"text-align: right;\">\n",
       "      <th></th>\n",
       "      <th>_id</th>\n",
       "      <th>au</th>\n",
       "      <th>ct</th>\n",
       "      <th>hl</th>\n",
       "      <th>st</th>\n",
       "      <th>predicted</th>\n",
       "      <th>positive_probs</th>\n",
       "    </tr>\n",
       "  </thead>\n",
       "  <tbody>\n",
       "    <tr>\n",
       "      <th>0</th>\n",
       "      <td>201608253079285</td>\n",
       "      <td>一汽領導</td>\n",
       "      <td>一汽集團為何就不知羞恥？\\n</td>\n",
       "      <td>一汽集團為何就不知羞恥？</td>\n",
       "      <td>000800.sz</td>\n",
       "      <td>1</td>\n",
       "      <td>0.0038</td>\n",
       "    </tr>\n",
       "    <tr>\n",
       "      <th>1</th>\n",
       "      <td>201608253079286</td>\n",
       "      <td>春姑2009</td>\n",
       "      <td>應該是長期利好\\n</td>\n",
       "      <td>應該是長期利好</td>\n",
       "      <td>600449.sh</td>\n",
       "      <td>1</td>\n",
       "      <td>0.0092</td>\n",
       "    </tr>\n",
       "    <tr>\n",
       "      <th>2</th>\n",
       "      <td>201608253079287</td>\n",
       "      <td>美好儲抱</td>\n",
       "      <td>體育產業多重利好發酵氣爽 布局奧運會概念 氣爽明天建倉，下周收網！\\n</td>\n",
       "      <td>體育產業多重利好發酵氣爽 布局奧運會概念  氣爽明天建倉，下周收網！</td>\n",
       "      <td>600343.sh</td>\n",
       "      <td>1</td>\n",
       "      <td>0.0315</td>\n",
       "    </tr>\n",
       "    <tr>\n",
       "      <th>3</th>\n",
       "      <td>201608253079288</td>\n",
       "      <td>廣東深圳手機網友</td>\n",
       "      <td>災後材料\\n</td>\n",
       "      <td>災後材料</td>\n",
       "      <td>002398.sz</td>\n",
       "      <td>1</td>\n",
       "      <td>0.0087</td>\n",
       "    </tr>\n",
       "    <tr>\n",
       "      <th>4</th>\n",
       "      <td>201608253079289</td>\n",
       "      <td>怎知魚之樂123</td>\n",
       "      <td>滬指神龍擺尾，驚天動作翹首以盼方法！八月必備板塊，等待起飛！\\n</td>\n",
       "      <td>滬指神龍擺尾，驚天動作翹首以盼方法！八月必備板塊，等待起飛！</td>\n",
       "      <td>300143.sz</td>\n",
       "      <td>1</td>\n",
       "      <td>0.0186</td>\n",
       "    </tr>\n",
       "  </tbody>\n",
       "</table>\n",
       "</div>"
      ],
      "text/plain": [
       "               _id        au                                   ct  \\\n",
       "0  201608253079285      一汽領導                       一汽集團為何就不知羞恥？\\n   \n",
       "1  201608253079286    春姑2009                            應該是長期利好\\n   \n",
       "2  201608253079287      美好儲抱  體育產業多重利好發酵氣爽 布局奧運會概念 氣爽明天建倉，下周收網！\\n   \n",
       "3  201608253079288  廣東深圳手機網友                               災後材料\\n   \n",
       "4  201608253079289  怎知魚之樂123     滬指神龍擺尾，驚天動作翹首以盼方法！八月必備板塊，等待起飛！\\n   \n",
       "\n",
       "                                   hl         st predicted positive_probs  \n",
       "0                        一汽集團為何就不知羞恥？  000800.sz         1         0.0038  \n",
       "1                             應該是長期利好  600449.sh         1         0.0092  \n",
       "2  體育產業多重利好發酵氣爽 布局奧運會概念  氣爽明天建倉，下周收網！  600343.sh         1         0.0315  \n",
       "3                                災後材料  002398.sz         1         0.0087  \n",
       "4      滬指神龍擺尾，驚天動作翹首以盼方法！八月必備板塊，等待起飛！  300143.sz         1         0.0186  "
      ]
     },
     "execution_count": 205,
     "metadata": {},
     "output_type": "execute_result"
    }
   ],
   "source": [
    "data.head(5)"
   ]
  },
  {
   "cell_type": "code",
   "execution_count": 206,
   "metadata": {},
   "outputs": [
    {
     "name": "stderr",
     "output_type": "stream",
     "text": [
      "C:\\Users\\user\\anaconda3\\lib\\site-packages\\ipykernel\\ipkernel.py:287: DeprecationWarning: `should_run_async` will not call `transform_cell` automatically in the future. Please pass the result to `transformed_cell` argument and any exception that happen during thetransform in `preprocessing_exc_tuple` in IPython 7.17 and above.\n",
      "  and should_run_async(code)\n"
     ]
    }
   ],
   "source": [
    "#aggregate the probs by stock ticker\n",
    "sentiment_sum = pd.pivot_table(data, index=\"st\",values=[\"positive_probs\"], aggfunc=np.sum)\n",
    "# sentiment_sum = sentiment_sum.reset_index()"
   ]
  },
  {
   "cell_type": "code",
   "execution_count": 207,
   "metadata": {},
   "outputs": [
    {
     "name": "stderr",
     "output_type": "stream",
     "text": [
      "C:\\Users\\user\\anaconda3\\lib\\site-packages\\ipykernel\\ipkernel.py:287: DeprecationWarning: `should_run_async` will not call `transform_cell` automatically in the future. Please pass the result to `transformed_cell` argument and any exception that happen during thetransform in `preprocessing_exc_tuple` in IPython 7.17 and above.\n",
      "  and should_run_async(code)\n"
     ]
    }
   ],
   "source": [
    "recommendation = sentiment_sum.sort_values(by=[\"positive_probs\"],ascending = False)\n",
    "# sentiment_pos = sentiment_pos.drop(columns = [\"negative_probs\",\"neutral_probs\",\"predicted\"])\n",
    "recommendation = recommendation.reset_index()\n",
    "recommendation.columns = [\"buy\",\"positive_prob\"]\n",
    "# sentiment_neg = sentiment_sum.sort_values(by=[\"negative_probs\"],ascending = False)\n",
    "# sentiment_neg = sentiment_neg.drop(columns = [\"positive_probs\",\"neutral_probs\",\"predicted\"])\n",
    "# sentiment_neg = sentiment_neg.reset_index()\n",
    "# sentiment_neg.columns = [\"sell\",\"negative_prob\"]\n",
    "# recommendation = sentiment_pos.join(sentiment_neg)\n",
    "# recommendation = pd.concat([sentiment_neg,sentiment_pos],keys=index)\n",
    "# recommendation = sentiment_pos[[\"st\",\"positive_probs\"]] + sentiment_neg[[\"st\",\"negative_probs\"]] "
   ]
  },
  {
   "cell_type": "code",
   "execution_count": 208,
   "metadata": {},
   "outputs": [],
   "source": [
    "recommendation.to_csv(\"recommendation.csv\")"
   ]
  },
  {
   "cell_type": "code",
   "execution_count": 209,
   "metadata": {},
   "outputs": [],
   "source": [
    "stock_list = []\n",
    "for stock in recommendation[\"buy\"]:\n",
    "    stock_list.append(stock[0:6])"
   ]
  },
  {
   "cell_type": "code",
   "execution_count": 210,
   "metadata": {},
   "outputs": [],
   "source": [
    "def stock_date(date):\n",
    "    stock_date = str(date)[0:4] +\"-\"+str(date)[4:6]+\"-\"+str(date)[6:8]\n",
    "    return stock_date"
   ]
  },
  {
   "cell_type": "code",
   "execution_count": 211,
   "metadata": {},
   "outputs": [],
   "source": [
    "stock_code = list()\n",
    "day_return = list()\n",
    "week_return = list()\n",
    "month_return = list()\n",
    "for stock in stock_list:\n",
    "    try:\n",
    "        stock_data = pd.read_csv(\"stock_price/stock_price_original/\"+stock+\".csv\")\n",
    "    except:\n",
    "        pass\n",
    "    for i in range(len(stock_data)):\n",
    "        if stock_data[\"date\"][i] == stock_date(int(date)):\n",
    "            stock_code.append(str(stock_data[\"code\"][i]))\n",
    "            day_return.append(stock_data[\"1_day_return\"][i])\n",
    "            week_return.append(stock_data[\"1_week_return\"][i])\n",
    "            month_return.append(stock_data[\"1_month_return\"][i])\n",
    "    "
   ]
  },
  {
   "cell_type": "code",
   "execution_count": 212,
   "metadata": {},
   "outputs": [
    {
     "data": {
      "text/html": [
       "<div>\n",
       "<style scoped>\n",
       "    .dataframe tbody tr th:only-of-type {\n",
       "        vertical-align: middle;\n",
       "    }\n",
       "\n",
       "    .dataframe tbody tr th {\n",
       "        vertical-align: top;\n",
       "    }\n",
       "\n",
       "    .dataframe thead th {\n",
       "        text-align: right;\n",
       "    }\n",
       "</style>\n",
       "<table border=\"1\" class=\"dataframe\">\n",
       "  <thead>\n",
       "    <tr style=\"text-align: right;\">\n",
       "      <th></th>\n",
       "      <th>st</th>\n",
       "      <th>day_return</th>\n",
       "      <th>week_return</th>\n",
       "      <th>month_return</th>\n",
       "    </tr>\n",
       "  </thead>\n",
       "  <tbody>\n",
       "    <tr>\n",
       "      <th>0</th>\n",
       "      <td>600149</td>\n",
       "      <td>-0.037243</td>\n",
       "      <td>-0.049065</td>\n",
       "      <td>-0.220236</td>\n",
       "    </tr>\n",
       "    <tr>\n",
       "      <th>1</th>\n",
       "      <td>600228</td>\n",
       "      <td>0.002428</td>\n",
       "      <td>0.007267</td>\n",
       "      <td>0.145313</td>\n",
       "    </tr>\n",
       "    <tr>\n",
       "      <th>2</th>\n",
       "      <td>2312</td>\n",
       "      <td>-0.005455</td>\n",
       "      <td>-0.000907</td>\n",
       "      <td>0.056403</td>\n",
       "    </tr>\n",
       "    <tr>\n",
       "      <th>3</th>\n",
       "      <td>601011</td>\n",
       "      <td>0.002628</td>\n",
       "      <td>0.041243</td>\n",
       "      <td>0.090514</td>\n",
       "    </tr>\n",
       "    <tr>\n",
       "      <th>4</th>\n",
       "      <td>2695</td>\n",
       "      <td>-0.031769</td>\n",
       "      <td>0.057293</td>\n",
       "      <td>-1.546976</td>\n",
       "    </tr>\n",
       "  </tbody>\n",
       "</table>\n",
       "</div>"
      ],
      "text/plain": [
       "       st  day_return  week_return  month_return\n",
       "0  600149   -0.037243    -0.049065     -0.220236\n",
       "1  600228    0.002428     0.007267      0.145313\n",
       "2    2312   -0.005455    -0.000907      0.056403\n",
       "3  601011    0.002628     0.041243      0.090514\n",
       "4    2695   -0.031769     0.057293     -1.546976"
      ]
     },
     "execution_count": 212,
     "metadata": {},
     "output_type": "execute_result"
    }
   ],
   "source": [
    "return_list = [stock_code, day_return, week_return, month_return]\n",
    "df = pd.DataFrame(columns=['st','day_return','week_return','month_return'])\n",
    "df['st'] = stock_code\n",
    "df['day_return'] = day_return\n",
    "df['week_return'] = week_return\n",
    "df['month_return'] = month_return\n",
    "# ,columns=['st','day_return','week_return','month_return'])\n",
    "df.head()"
   ]
  },
  {
   "cell_type": "code",
   "execution_count": 213,
   "metadata": {},
   "outputs": [
    {
     "name": "stderr",
     "output_type": "stream",
     "text": [
      "C:\\Users\\user\\anaconda3\\lib\\site-packages\\ipykernel\\ipkernel.py:287: DeprecationWarning: `should_run_async` will not call `transform_cell` automatically in the future. Please pass the result to `transformed_cell` argument and any exception that happen during thetransform in `preprocessing_exc_tuple` in IPython 7.17 and above.\n",
      "  and should_run_async(code)\n"
     ]
    }
   ],
   "source": [
    "df.to_csv(\"stock_return.csv\")"
   ]
  }
 ],
 "metadata": {
  "kernelspec": {
   "display_name": "Python 3",
   "language": "python",
   "name": "python3"
  },
  "language_info": {
   "codemirror_mode": {
    "name": "ipython",
    "version": 3
   },
   "file_extension": ".py",
   "mimetype": "text/x-python",
   "name": "python",
   "nbconvert_exporter": "python",
   "pygments_lexer": "ipython3",
   "version": "3.8.5"
  }
 },
 "nbformat": 4,
 "nbformat_minor": 4
}
