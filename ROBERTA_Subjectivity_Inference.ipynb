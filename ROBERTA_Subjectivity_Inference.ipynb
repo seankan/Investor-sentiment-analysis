{
  "nbformat": 4,
  "nbformat_minor": 0,
  "metadata": {
    "colab": {
      "name": "ROBERTA_Subjectivity_Inference.ipynb",
      "provenance": [],
      "toc_visible": true
    },
    "kernelspec": {
      "name": "python3",
      "display_name": "Python 3"
    },
    "language_info": {
      "name": "python"
    },
    "accelerator": "GPU",
    "widgets": {
      "application/vnd.jupyter.widget-state+json": {
        "5d3239454f9749728ae95948719b48cd": {
          "model_module": "@jupyter-widgets/controls",
          "model_name": "HBoxModel",
          "state": {
            "_view_name": "HBoxView",
            "_dom_classes": [],
            "_model_name": "HBoxModel",
            "_view_module": "@jupyter-widgets/controls",
            "_model_module_version": "1.5.0",
            "_view_count": null,
            "_view_module_version": "1.5.0",
            "box_style": "",
            "layout": "IPY_MODEL_15346b6e5b1e4a36bce373f93c8de31e",
            "_model_module": "@jupyter-widgets/controls",
            "children": [
              "IPY_MODEL_d0da9e97fbd24bb18499c5f0e97bc4ee",
              "IPY_MODEL_f9ad15425a494deaa9990278e4dfdb9f"
            ]
          }
        },
        "15346b6e5b1e4a36bce373f93c8de31e": {
          "model_module": "@jupyter-widgets/base",
          "model_name": "LayoutModel",
          "state": {
            "_view_name": "LayoutView",
            "grid_template_rows": null,
            "right": null,
            "justify_content": null,
            "_view_module": "@jupyter-widgets/base",
            "overflow": null,
            "_model_module_version": "1.2.0",
            "_view_count": null,
            "flex_flow": null,
            "width": null,
            "min_width": null,
            "border": null,
            "align_items": null,
            "bottom": null,
            "_model_module": "@jupyter-widgets/base",
            "top": null,
            "grid_column": null,
            "overflow_y": null,
            "overflow_x": null,
            "grid_auto_flow": null,
            "grid_area": null,
            "grid_template_columns": null,
            "flex": null,
            "_model_name": "LayoutModel",
            "justify_items": null,
            "grid_row": null,
            "max_height": null,
            "align_content": null,
            "visibility": null,
            "align_self": null,
            "height": null,
            "min_height": null,
            "padding": null,
            "grid_auto_rows": null,
            "grid_gap": null,
            "max_width": null,
            "order": null,
            "_view_module_version": "1.2.0",
            "grid_template_areas": null,
            "object_position": null,
            "object_fit": null,
            "grid_auto_columns": null,
            "margin": null,
            "display": null,
            "left": null
          }
        },
        "d0da9e97fbd24bb18499c5f0e97bc4ee": {
          "model_module": "@jupyter-widgets/controls",
          "model_name": "FloatProgressModel",
          "state": {
            "_view_name": "ProgressView",
            "style": "IPY_MODEL_1e19491919ff45a0bb5403b848e943ad",
            "_dom_classes": [],
            "description": "Downloading: 100%",
            "_model_name": "FloatProgressModel",
            "bar_style": "success",
            "max": 109540,
            "_view_module": "@jupyter-widgets/controls",
            "_model_module_version": "1.5.0",
            "value": 109540,
            "_view_count": null,
            "_view_module_version": "1.5.0",
            "orientation": "horizontal",
            "min": 0,
            "description_tooltip": null,
            "_model_module": "@jupyter-widgets/controls",
            "layout": "IPY_MODEL_ef0177a20246496cb7a0df2322a7acf9"
          }
        },
        "f9ad15425a494deaa9990278e4dfdb9f": {
          "model_module": "@jupyter-widgets/controls",
          "model_name": "HTMLModel",
          "state": {
            "_view_name": "HTMLView",
            "style": "IPY_MODEL_b5b93055301344bc928a40f969a74c22",
            "_dom_classes": [],
            "description": "",
            "_model_name": "HTMLModel",
            "placeholder": "​",
            "_view_module": "@jupyter-widgets/controls",
            "_model_module_version": "1.5.0",
            "value": " 110k/110k [00:00&lt;00:00, 643kB/s]",
            "_view_count": null,
            "_view_module_version": "1.5.0",
            "description_tooltip": null,
            "_model_module": "@jupyter-widgets/controls",
            "layout": "IPY_MODEL_847fd4d935bf417394f6456dd2cd2121"
          }
        },
        "1e19491919ff45a0bb5403b848e943ad": {
          "model_module": "@jupyter-widgets/controls",
          "model_name": "ProgressStyleModel",
          "state": {
            "_view_name": "StyleView",
            "_model_name": "ProgressStyleModel",
            "description_width": "initial",
            "_view_module": "@jupyter-widgets/base",
            "_model_module_version": "1.5.0",
            "_view_count": null,
            "_view_module_version": "1.2.0",
            "bar_color": null,
            "_model_module": "@jupyter-widgets/controls"
          }
        },
        "ef0177a20246496cb7a0df2322a7acf9": {
          "model_module": "@jupyter-widgets/base",
          "model_name": "LayoutModel",
          "state": {
            "_view_name": "LayoutView",
            "grid_template_rows": null,
            "right": null,
            "justify_content": null,
            "_view_module": "@jupyter-widgets/base",
            "overflow": null,
            "_model_module_version": "1.2.0",
            "_view_count": null,
            "flex_flow": null,
            "width": null,
            "min_width": null,
            "border": null,
            "align_items": null,
            "bottom": null,
            "_model_module": "@jupyter-widgets/base",
            "top": null,
            "grid_column": null,
            "overflow_y": null,
            "overflow_x": null,
            "grid_auto_flow": null,
            "grid_area": null,
            "grid_template_columns": null,
            "flex": null,
            "_model_name": "LayoutModel",
            "justify_items": null,
            "grid_row": null,
            "max_height": null,
            "align_content": null,
            "visibility": null,
            "align_self": null,
            "height": null,
            "min_height": null,
            "padding": null,
            "grid_auto_rows": null,
            "grid_gap": null,
            "max_width": null,
            "order": null,
            "_view_module_version": "1.2.0",
            "grid_template_areas": null,
            "object_position": null,
            "object_fit": null,
            "grid_auto_columns": null,
            "margin": null,
            "display": null,
            "left": null
          }
        },
        "b5b93055301344bc928a40f969a74c22": {
          "model_module": "@jupyter-widgets/controls",
          "model_name": "DescriptionStyleModel",
          "state": {
            "_view_name": "StyleView",
            "_model_name": "DescriptionStyleModel",
            "description_width": "",
            "_view_module": "@jupyter-widgets/base",
            "_model_module_version": "1.5.0",
            "_view_count": null,
            "_view_module_version": "1.2.0",
            "_model_module": "@jupyter-widgets/controls"
          }
        },
        "847fd4d935bf417394f6456dd2cd2121": {
          "model_module": "@jupyter-widgets/base",
          "model_name": "LayoutModel",
          "state": {
            "_view_name": "LayoutView",
            "grid_template_rows": null,
            "right": null,
            "justify_content": null,
            "_view_module": "@jupyter-widgets/base",
            "overflow": null,
            "_model_module_version": "1.2.0",
            "_view_count": null,
            "flex_flow": null,
            "width": null,
            "min_width": null,
            "border": null,
            "align_items": null,
            "bottom": null,
            "_model_module": "@jupyter-widgets/base",
            "top": null,
            "grid_column": null,
            "overflow_y": null,
            "overflow_x": null,
            "grid_auto_flow": null,
            "grid_area": null,
            "grid_template_columns": null,
            "flex": null,
            "_model_name": "LayoutModel",
            "justify_items": null,
            "grid_row": null,
            "max_height": null,
            "align_content": null,
            "visibility": null,
            "align_self": null,
            "height": null,
            "min_height": null,
            "padding": null,
            "grid_auto_rows": null,
            "grid_gap": null,
            "max_width": null,
            "order": null,
            "_view_module_version": "1.2.0",
            "grid_template_areas": null,
            "object_position": null,
            "object_fit": null,
            "grid_auto_columns": null,
            "margin": null,
            "display": null,
            "left": null
          }
        },
        "cfd432ff7ffd499e95b721897e80a2ad": {
          "model_module": "@jupyter-widgets/controls",
          "model_name": "HBoxModel",
          "state": {
            "_view_name": "HBoxView",
            "_dom_classes": [],
            "_model_name": "HBoxModel",
            "_view_module": "@jupyter-widgets/controls",
            "_model_module_version": "1.5.0",
            "_view_count": null,
            "_view_module_version": "1.5.0",
            "box_style": "",
            "layout": "IPY_MODEL_bf50fa20d8444bab954c7298601e9eaa",
            "_model_module": "@jupyter-widgets/controls",
            "children": [
              "IPY_MODEL_570de13d264644d993b09f35f8624812",
              "IPY_MODEL_d0d0c2b35ab14a50a8746b153afe50e6"
            ]
          }
        },
        "bf50fa20d8444bab954c7298601e9eaa": {
          "model_module": "@jupyter-widgets/base",
          "model_name": "LayoutModel",
          "state": {
            "_view_name": "LayoutView",
            "grid_template_rows": null,
            "right": null,
            "justify_content": null,
            "_view_module": "@jupyter-widgets/base",
            "overflow": null,
            "_model_module_version": "1.2.0",
            "_view_count": null,
            "flex_flow": null,
            "width": null,
            "min_width": null,
            "border": null,
            "align_items": null,
            "bottom": null,
            "_model_module": "@jupyter-widgets/base",
            "top": null,
            "grid_column": null,
            "overflow_y": null,
            "overflow_x": null,
            "grid_auto_flow": null,
            "grid_area": null,
            "grid_template_columns": null,
            "flex": null,
            "_model_name": "LayoutModel",
            "justify_items": null,
            "grid_row": null,
            "max_height": null,
            "align_content": null,
            "visibility": null,
            "align_self": null,
            "height": null,
            "min_height": null,
            "padding": null,
            "grid_auto_rows": null,
            "grid_gap": null,
            "max_width": null,
            "order": null,
            "_view_module_version": "1.2.0",
            "grid_template_areas": null,
            "object_position": null,
            "object_fit": null,
            "grid_auto_columns": null,
            "margin": null,
            "display": null,
            "left": null
          }
        },
        "570de13d264644d993b09f35f8624812": {
          "model_module": "@jupyter-widgets/controls",
          "model_name": "FloatProgressModel",
          "state": {
            "_view_name": "ProgressView",
            "style": "IPY_MODEL_89d192640d22406fb85ec63def2c7c28",
            "_dom_classes": [],
            "description": "Downloading: 100%",
            "_model_name": "FloatProgressModel",
            "bar_style": "success",
            "max": 2,
            "_view_module": "@jupyter-widgets/controls",
            "_model_module_version": "1.5.0",
            "value": 2,
            "_view_count": null,
            "_view_module_version": "1.5.0",
            "orientation": "horizontal",
            "min": 0,
            "description_tooltip": null,
            "_model_module": "@jupyter-widgets/controls",
            "layout": "IPY_MODEL_85dbf85b1f004f4aa91c4a4d387c766a"
          }
        },
        "d0d0c2b35ab14a50a8746b153afe50e6": {
          "model_module": "@jupyter-widgets/controls",
          "model_name": "HTMLModel",
          "state": {
            "_view_name": "HTMLView",
            "style": "IPY_MODEL_2197579f1a764b39b64174c1a65accd4",
            "_dom_classes": [],
            "description": "",
            "_model_name": "HTMLModel",
            "placeholder": "​",
            "_view_module": "@jupyter-widgets/controls",
            "_model_module_version": "1.5.0",
            "value": " 2.00/2.00 [00:00&lt;00:00, 23.9B/s]",
            "_view_count": null,
            "_view_module_version": "1.5.0",
            "description_tooltip": null,
            "_model_module": "@jupyter-widgets/controls",
            "layout": "IPY_MODEL_378c788078244781a3fc591cf9718a32"
          }
        },
        "89d192640d22406fb85ec63def2c7c28": {
          "model_module": "@jupyter-widgets/controls",
          "model_name": "ProgressStyleModel",
          "state": {
            "_view_name": "StyleView",
            "_model_name": "ProgressStyleModel",
            "description_width": "initial",
            "_view_module": "@jupyter-widgets/base",
            "_model_module_version": "1.5.0",
            "_view_count": null,
            "_view_module_version": "1.2.0",
            "bar_color": null,
            "_model_module": "@jupyter-widgets/controls"
          }
        },
        "85dbf85b1f004f4aa91c4a4d387c766a": {
          "model_module": "@jupyter-widgets/base",
          "model_name": "LayoutModel",
          "state": {
            "_view_name": "LayoutView",
            "grid_template_rows": null,
            "right": null,
            "justify_content": null,
            "_view_module": "@jupyter-widgets/base",
            "overflow": null,
            "_model_module_version": "1.2.0",
            "_view_count": null,
            "flex_flow": null,
            "width": null,
            "min_width": null,
            "border": null,
            "align_items": null,
            "bottom": null,
            "_model_module": "@jupyter-widgets/base",
            "top": null,
            "grid_column": null,
            "overflow_y": null,
            "overflow_x": null,
            "grid_auto_flow": null,
            "grid_area": null,
            "grid_template_columns": null,
            "flex": null,
            "_model_name": "LayoutModel",
            "justify_items": null,
            "grid_row": null,
            "max_height": null,
            "align_content": null,
            "visibility": null,
            "align_self": null,
            "height": null,
            "min_height": null,
            "padding": null,
            "grid_auto_rows": null,
            "grid_gap": null,
            "max_width": null,
            "order": null,
            "_view_module_version": "1.2.0",
            "grid_template_areas": null,
            "object_position": null,
            "object_fit": null,
            "grid_auto_columns": null,
            "margin": null,
            "display": null,
            "left": null
          }
        },
        "2197579f1a764b39b64174c1a65accd4": {
          "model_module": "@jupyter-widgets/controls",
          "model_name": "DescriptionStyleModel",
          "state": {
            "_view_name": "StyleView",
            "_model_name": "DescriptionStyleModel",
            "description_width": "",
            "_view_module": "@jupyter-widgets/base",
            "_model_module_version": "1.5.0",
            "_view_count": null,
            "_view_module_version": "1.2.0",
            "_model_module": "@jupyter-widgets/controls"
          }
        },
        "378c788078244781a3fc591cf9718a32": {
          "model_module": "@jupyter-widgets/base",
          "model_name": "LayoutModel",
          "state": {
            "_view_name": "LayoutView",
            "grid_template_rows": null,
            "right": null,
            "justify_content": null,
            "_view_module": "@jupyter-widgets/base",
            "overflow": null,
            "_model_module_version": "1.2.0",
            "_view_count": null,
            "flex_flow": null,
            "width": null,
            "min_width": null,
            "border": null,
            "align_items": null,
            "bottom": null,
            "_model_module": "@jupyter-widgets/base",
            "top": null,
            "grid_column": null,
            "overflow_y": null,
            "overflow_x": null,
            "grid_auto_flow": null,
            "grid_area": null,
            "grid_template_columns": null,
            "flex": null,
            "_model_name": "LayoutModel",
            "justify_items": null,
            "grid_row": null,
            "max_height": null,
            "align_content": null,
            "visibility": null,
            "align_self": null,
            "height": null,
            "min_height": null,
            "padding": null,
            "grid_auto_rows": null,
            "grid_gap": null,
            "max_width": null,
            "order": null,
            "_view_module_version": "1.2.0",
            "grid_template_areas": null,
            "object_position": null,
            "object_fit": null,
            "grid_auto_columns": null,
            "margin": null,
            "display": null,
            "left": null
          }
        },
        "854f6277fccf4d66a4afcba3b69e8abc": {
          "model_module": "@jupyter-widgets/controls",
          "model_name": "HBoxModel",
          "state": {
            "_view_name": "HBoxView",
            "_dom_classes": [],
            "_model_name": "HBoxModel",
            "_view_module": "@jupyter-widgets/controls",
            "_model_module_version": "1.5.0",
            "_view_count": null,
            "_view_module_version": "1.5.0",
            "box_style": "",
            "layout": "IPY_MODEL_9f8c7f62b8314d2e8756fa60d26a3f85",
            "_model_module": "@jupyter-widgets/controls",
            "children": [
              "IPY_MODEL_fbeb5699eb3a4d9f863ce2ffbe6cda48",
              "IPY_MODEL_80c6804bda2a4a5281f6a6360f245b36"
            ]
          }
        },
        "9f8c7f62b8314d2e8756fa60d26a3f85": {
          "model_module": "@jupyter-widgets/base",
          "model_name": "LayoutModel",
          "state": {
            "_view_name": "LayoutView",
            "grid_template_rows": null,
            "right": null,
            "justify_content": null,
            "_view_module": "@jupyter-widgets/base",
            "overflow": null,
            "_model_module_version": "1.2.0",
            "_view_count": null,
            "flex_flow": null,
            "width": null,
            "min_width": null,
            "border": null,
            "align_items": null,
            "bottom": null,
            "_model_module": "@jupyter-widgets/base",
            "top": null,
            "grid_column": null,
            "overflow_y": null,
            "overflow_x": null,
            "grid_auto_flow": null,
            "grid_area": null,
            "grid_template_columns": null,
            "flex": null,
            "_model_name": "LayoutModel",
            "justify_items": null,
            "grid_row": null,
            "max_height": null,
            "align_content": null,
            "visibility": null,
            "align_self": null,
            "height": null,
            "min_height": null,
            "padding": null,
            "grid_auto_rows": null,
            "grid_gap": null,
            "max_width": null,
            "order": null,
            "_view_module_version": "1.2.0",
            "grid_template_areas": null,
            "object_position": null,
            "object_fit": null,
            "grid_auto_columns": null,
            "margin": null,
            "display": null,
            "left": null
          }
        },
        "fbeb5699eb3a4d9f863ce2ffbe6cda48": {
          "model_module": "@jupyter-widgets/controls",
          "model_name": "FloatProgressModel",
          "state": {
            "_view_name": "ProgressView",
            "style": "IPY_MODEL_f3bb423765ce4a7e89d8132675cb167e",
            "_dom_classes": [],
            "description": "Downloading: 100%",
            "_model_name": "FloatProgressModel",
            "bar_style": "success",
            "max": 112,
            "_view_module": "@jupyter-widgets/controls",
            "_model_module_version": "1.5.0",
            "value": 112,
            "_view_count": null,
            "_view_module_version": "1.5.0",
            "orientation": "horizontal",
            "min": 0,
            "description_tooltip": null,
            "_model_module": "@jupyter-widgets/controls",
            "layout": "IPY_MODEL_31fcd703147847bd91ddb7a3a6bde941"
          }
        },
        "80c6804bda2a4a5281f6a6360f245b36": {
          "model_module": "@jupyter-widgets/controls",
          "model_name": "HTMLModel",
          "state": {
            "_view_name": "HTMLView",
            "style": "IPY_MODEL_0d505e8044e340f08860d8d6dd9d8e3a",
            "_dom_classes": [],
            "description": "",
            "_model_name": "HTMLModel",
            "placeholder": "​",
            "_view_module": "@jupyter-widgets/controls",
            "_model_module_version": "1.5.0",
            "value": " 112/112 [00:00&lt;00:00, 574B/s]",
            "_view_count": null,
            "_view_module_version": "1.5.0",
            "description_tooltip": null,
            "_model_module": "@jupyter-widgets/controls",
            "layout": "IPY_MODEL_d2b8e2f63fb844f783e49a185a4eabe2"
          }
        },
        "f3bb423765ce4a7e89d8132675cb167e": {
          "model_module": "@jupyter-widgets/controls",
          "model_name": "ProgressStyleModel",
          "state": {
            "_view_name": "StyleView",
            "_model_name": "ProgressStyleModel",
            "description_width": "initial",
            "_view_module": "@jupyter-widgets/base",
            "_model_module_version": "1.5.0",
            "_view_count": null,
            "_view_module_version": "1.2.0",
            "bar_color": null,
            "_model_module": "@jupyter-widgets/controls"
          }
        },
        "31fcd703147847bd91ddb7a3a6bde941": {
          "model_module": "@jupyter-widgets/base",
          "model_name": "LayoutModel",
          "state": {
            "_view_name": "LayoutView",
            "grid_template_rows": null,
            "right": null,
            "justify_content": null,
            "_view_module": "@jupyter-widgets/base",
            "overflow": null,
            "_model_module_version": "1.2.0",
            "_view_count": null,
            "flex_flow": null,
            "width": null,
            "min_width": null,
            "border": null,
            "align_items": null,
            "bottom": null,
            "_model_module": "@jupyter-widgets/base",
            "top": null,
            "grid_column": null,
            "overflow_y": null,
            "overflow_x": null,
            "grid_auto_flow": null,
            "grid_area": null,
            "grid_template_columns": null,
            "flex": null,
            "_model_name": "LayoutModel",
            "justify_items": null,
            "grid_row": null,
            "max_height": null,
            "align_content": null,
            "visibility": null,
            "align_self": null,
            "height": null,
            "min_height": null,
            "padding": null,
            "grid_auto_rows": null,
            "grid_gap": null,
            "max_width": null,
            "order": null,
            "_view_module_version": "1.2.0",
            "grid_template_areas": null,
            "object_position": null,
            "object_fit": null,
            "grid_auto_columns": null,
            "margin": null,
            "display": null,
            "left": null
          }
        },
        "0d505e8044e340f08860d8d6dd9d8e3a": {
          "model_module": "@jupyter-widgets/controls",
          "model_name": "DescriptionStyleModel",
          "state": {
            "_view_name": "StyleView",
            "_model_name": "DescriptionStyleModel",
            "description_width": "",
            "_view_module": "@jupyter-widgets/base",
            "_model_module_version": "1.5.0",
            "_view_count": null,
            "_view_module_version": "1.2.0",
            "_model_module": "@jupyter-widgets/controls"
          }
        },
        "d2b8e2f63fb844f783e49a185a4eabe2": {
          "model_module": "@jupyter-widgets/base",
          "model_name": "LayoutModel",
          "state": {
            "_view_name": "LayoutView",
            "grid_template_rows": null,
            "right": null,
            "justify_content": null,
            "_view_module": "@jupyter-widgets/base",
            "overflow": null,
            "_model_module_version": "1.2.0",
            "_view_count": null,
            "flex_flow": null,
            "width": null,
            "min_width": null,
            "border": null,
            "align_items": null,
            "bottom": null,
            "_model_module": "@jupyter-widgets/base",
            "top": null,
            "grid_column": null,
            "overflow_y": null,
            "overflow_x": null,
            "grid_auto_flow": null,
            "grid_area": null,
            "grid_template_columns": null,
            "flex": null,
            "_model_name": "LayoutModel",
            "justify_items": null,
            "grid_row": null,
            "max_height": null,
            "align_content": null,
            "visibility": null,
            "align_self": null,
            "height": null,
            "min_height": null,
            "padding": null,
            "grid_auto_rows": null,
            "grid_gap": null,
            "max_width": null,
            "order": null,
            "_view_module_version": "1.2.0",
            "grid_template_areas": null,
            "object_position": null,
            "object_fit": null,
            "grid_auto_columns": null,
            "margin": null,
            "display": null,
            "left": null
          }
        },
        "1e1f03ace7c54470bdd956ff31a72534": {
          "model_module": "@jupyter-widgets/controls",
          "model_name": "HBoxModel",
          "state": {
            "_view_name": "HBoxView",
            "_dom_classes": [],
            "_model_name": "HBoxModel",
            "_view_module": "@jupyter-widgets/controls",
            "_model_module_version": "1.5.0",
            "_view_count": null,
            "_view_module_version": "1.5.0",
            "box_style": "",
            "layout": "IPY_MODEL_7cbc0eb479e74592b9db556e2fb476f2",
            "_model_module": "@jupyter-widgets/controls",
            "children": [
              "IPY_MODEL_4b87dcb20b67468083493ccb7f504344",
              "IPY_MODEL_a1994eaef6994c5aa8373f7ad19614bf"
            ]
          }
        },
        "7cbc0eb479e74592b9db556e2fb476f2": {
          "model_module": "@jupyter-widgets/base",
          "model_name": "LayoutModel",
          "state": {
            "_view_name": "LayoutView",
            "grid_template_rows": null,
            "right": null,
            "justify_content": null,
            "_view_module": "@jupyter-widgets/base",
            "overflow": null,
            "_model_module_version": "1.2.0",
            "_view_count": null,
            "flex_flow": null,
            "width": null,
            "min_width": null,
            "border": null,
            "align_items": null,
            "bottom": null,
            "_model_module": "@jupyter-widgets/base",
            "top": null,
            "grid_column": null,
            "overflow_y": null,
            "overflow_x": null,
            "grid_auto_flow": null,
            "grid_area": null,
            "grid_template_columns": null,
            "flex": null,
            "_model_name": "LayoutModel",
            "justify_items": null,
            "grid_row": null,
            "max_height": null,
            "align_content": null,
            "visibility": null,
            "align_self": null,
            "height": null,
            "min_height": null,
            "padding": null,
            "grid_auto_rows": null,
            "grid_gap": null,
            "max_width": null,
            "order": null,
            "_view_module_version": "1.2.0",
            "grid_template_areas": null,
            "object_position": null,
            "object_fit": null,
            "grid_auto_columns": null,
            "margin": null,
            "display": null,
            "left": null
          }
        },
        "4b87dcb20b67468083493ccb7f504344": {
          "model_module": "@jupyter-widgets/controls",
          "model_name": "FloatProgressModel",
          "state": {
            "_view_name": "ProgressView",
            "style": "IPY_MODEL_adc858a268c94f3683bc296c3f0eedf6",
            "_dom_classes": [],
            "description": "Downloading: 100%",
            "_model_name": "FloatProgressModel",
            "bar_style": "success",
            "max": 19,
            "_view_module": "@jupyter-widgets/controls",
            "_model_module_version": "1.5.0",
            "value": 19,
            "_view_count": null,
            "_view_module_version": "1.5.0",
            "orientation": "horizontal",
            "min": 0,
            "description_tooltip": null,
            "_model_module": "@jupyter-widgets/controls",
            "layout": "IPY_MODEL_a2bc6caad1854d39a8ed4f47808ec598"
          }
        },
        "a1994eaef6994c5aa8373f7ad19614bf": {
          "model_module": "@jupyter-widgets/controls",
          "model_name": "HTMLModel",
          "state": {
            "_view_name": "HTMLView",
            "style": "IPY_MODEL_167975fa497a4eeca561c73e9a5e1f42",
            "_dom_classes": [],
            "description": "",
            "_model_name": "HTMLModel",
            "placeholder": "​",
            "_view_module": "@jupyter-widgets/controls",
            "_model_module_version": "1.5.0",
            "value": " 19.0/19.0 [00:00&lt;00:00, 184B/s]",
            "_view_count": null,
            "_view_module_version": "1.5.0",
            "description_tooltip": null,
            "_model_module": "@jupyter-widgets/controls",
            "layout": "IPY_MODEL_637911f1f6c749e5a4570e821f975e28"
          }
        },
        "adc858a268c94f3683bc296c3f0eedf6": {
          "model_module": "@jupyter-widgets/controls",
          "model_name": "ProgressStyleModel",
          "state": {
            "_view_name": "StyleView",
            "_model_name": "ProgressStyleModel",
            "description_width": "initial",
            "_view_module": "@jupyter-widgets/base",
            "_model_module_version": "1.5.0",
            "_view_count": null,
            "_view_module_version": "1.2.0",
            "bar_color": null,
            "_model_module": "@jupyter-widgets/controls"
          }
        },
        "a2bc6caad1854d39a8ed4f47808ec598": {
          "model_module": "@jupyter-widgets/base",
          "model_name": "LayoutModel",
          "state": {
            "_view_name": "LayoutView",
            "grid_template_rows": null,
            "right": null,
            "justify_content": null,
            "_view_module": "@jupyter-widgets/base",
            "overflow": null,
            "_model_module_version": "1.2.0",
            "_view_count": null,
            "flex_flow": null,
            "width": null,
            "min_width": null,
            "border": null,
            "align_items": null,
            "bottom": null,
            "_model_module": "@jupyter-widgets/base",
            "top": null,
            "grid_column": null,
            "overflow_y": null,
            "overflow_x": null,
            "grid_auto_flow": null,
            "grid_area": null,
            "grid_template_columns": null,
            "flex": null,
            "_model_name": "LayoutModel",
            "justify_items": null,
            "grid_row": null,
            "max_height": null,
            "align_content": null,
            "visibility": null,
            "align_self": null,
            "height": null,
            "min_height": null,
            "padding": null,
            "grid_auto_rows": null,
            "grid_gap": null,
            "max_width": null,
            "order": null,
            "_view_module_version": "1.2.0",
            "grid_template_areas": null,
            "object_position": null,
            "object_fit": null,
            "grid_auto_columns": null,
            "margin": null,
            "display": null,
            "left": null
          }
        },
        "167975fa497a4eeca561c73e9a5e1f42": {
          "model_module": "@jupyter-widgets/controls",
          "model_name": "DescriptionStyleModel",
          "state": {
            "_view_name": "StyleView",
            "_model_name": "DescriptionStyleModel",
            "description_width": "",
            "_view_module": "@jupyter-widgets/base",
            "_model_module_version": "1.5.0",
            "_view_count": null,
            "_view_module_version": "1.2.0",
            "_model_module": "@jupyter-widgets/controls"
          }
        },
        "637911f1f6c749e5a4570e821f975e28": {
          "model_module": "@jupyter-widgets/base",
          "model_name": "LayoutModel",
          "state": {
            "_view_name": "LayoutView",
            "grid_template_rows": null,
            "right": null,
            "justify_content": null,
            "_view_module": "@jupyter-widgets/base",
            "overflow": null,
            "_model_module_version": "1.2.0",
            "_view_count": null,
            "flex_flow": null,
            "width": null,
            "min_width": null,
            "border": null,
            "align_items": null,
            "bottom": null,
            "_model_module": "@jupyter-widgets/base",
            "top": null,
            "grid_column": null,
            "overflow_y": null,
            "overflow_x": null,
            "grid_auto_flow": null,
            "grid_area": null,
            "grid_template_columns": null,
            "flex": null,
            "_model_name": "LayoutModel",
            "justify_items": null,
            "grid_row": null,
            "max_height": null,
            "align_content": null,
            "visibility": null,
            "align_self": null,
            "height": null,
            "min_height": null,
            "padding": null,
            "grid_auto_rows": null,
            "grid_gap": null,
            "max_width": null,
            "order": null,
            "_view_module_version": "1.2.0",
            "grid_template_areas": null,
            "object_position": null,
            "object_fit": null,
            "grid_auto_columns": null,
            "margin": null,
            "display": null,
            "left": null
          }
        },
        "e7c3f02e795b4ce28b5553ea3c9d6319": {
          "model_module": "@jupyter-widgets/controls",
          "model_name": "HBoxModel",
          "state": {
            "_view_name": "HBoxView",
            "_dom_classes": [],
            "_model_name": "HBoxModel",
            "_view_module": "@jupyter-widgets/controls",
            "_model_module_version": "1.5.0",
            "_view_count": null,
            "_view_module_version": "1.5.0",
            "box_style": "",
            "layout": "IPY_MODEL_6896151aa9314ed4b839bbea20e3b6e4",
            "_model_module": "@jupyter-widgets/controls",
            "children": [
              "IPY_MODEL_c749fca0ff2247cbb6e0b2988a0800d6",
              "IPY_MODEL_10ae5233a1dc49bfb5c6d97f304e41c0"
            ]
          }
        },
        "6896151aa9314ed4b839bbea20e3b6e4": {
          "model_module": "@jupyter-widgets/base",
          "model_name": "LayoutModel",
          "state": {
            "_view_name": "LayoutView",
            "grid_template_rows": null,
            "right": null,
            "justify_content": null,
            "_view_module": "@jupyter-widgets/base",
            "overflow": null,
            "_model_module_version": "1.2.0",
            "_view_count": null,
            "flex_flow": null,
            "width": null,
            "min_width": null,
            "border": null,
            "align_items": null,
            "bottom": null,
            "_model_module": "@jupyter-widgets/base",
            "top": null,
            "grid_column": null,
            "overflow_y": null,
            "overflow_x": null,
            "grid_auto_flow": null,
            "grid_area": null,
            "grid_template_columns": null,
            "flex": null,
            "_model_name": "LayoutModel",
            "justify_items": null,
            "grid_row": null,
            "max_height": null,
            "align_content": null,
            "visibility": null,
            "align_self": null,
            "height": null,
            "min_height": null,
            "padding": null,
            "grid_auto_rows": null,
            "grid_gap": null,
            "max_width": null,
            "order": null,
            "_view_module_version": "1.2.0",
            "grid_template_areas": null,
            "object_position": null,
            "object_fit": null,
            "grid_auto_columns": null,
            "margin": null,
            "display": null,
            "left": null
          }
        },
        "c749fca0ff2247cbb6e0b2988a0800d6": {
          "model_module": "@jupyter-widgets/controls",
          "model_name": "FloatProgressModel",
          "state": {
            "_view_name": "ProgressView",
            "style": "IPY_MODEL_1bbb13c3b92f440ea81cbfffda58b59e",
            "_dom_classes": [],
            "description": "Downloading: 100%",
            "_model_name": "FloatProgressModel",
            "bar_style": "success",
            "max": 268961,
            "_view_module": "@jupyter-widgets/controls",
            "_model_module_version": "1.5.0",
            "value": 268961,
            "_view_count": null,
            "_view_module_version": "1.5.0",
            "orientation": "horizontal",
            "min": 0,
            "description_tooltip": null,
            "_model_module": "@jupyter-widgets/controls",
            "layout": "IPY_MODEL_2d907eafdec949c4a74863ea4578b781"
          }
        },
        "10ae5233a1dc49bfb5c6d97f304e41c0": {
          "model_module": "@jupyter-widgets/controls",
          "model_name": "HTMLModel",
          "state": {
            "_view_name": "HTMLView",
            "style": "IPY_MODEL_753d1590422c44aeab6c253cfff8ee62",
            "_dom_classes": [],
            "description": "",
            "_model_name": "HTMLModel",
            "placeholder": "​",
            "_view_module": "@jupyter-widgets/controls",
            "_model_module_version": "1.5.0",
            "value": " 269k/269k [00:00&lt;00:00, 2.68MB/s]",
            "_view_count": null,
            "_view_module_version": "1.5.0",
            "description_tooltip": null,
            "_model_module": "@jupyter-widgets/controls",
            "layout": "IPY_MODEL_f336714fd7734f10999f1f3ffdeaba53"
          }
        },
        "1bbb13c3b92f440ea81cbfffda58b59e": {
          "model_module": "@jupyter-widgets/controls",
          "model_name": "ProgressStyleModel",
          "state": {
            "_view_name": "StyleView",
            "_model_name": "ProgressStyleModel",
            "description_width": "initial",
            "_view_module": "@jupyter-widgets/base",
            "_model_module_version": "1.5.0",
            "_view_count": null,
            "_view_module_version": "1.2.0",
            "bar_color": null,
            "_model_module": "@jupyter-widgets/controls"
          }
        },
        "2d907eafdec949c4a74863ea4578b781": {
          "model_module": "@jupyter-widgets/base",
          "model_name": "LayoutModel",
          "state": {
            "_view_name": "LayoutView",
            "grid_template_rows": null,
            "right": null,
            "justify_content": null,
            "_view_module": "@jupyter-widgets/base",
            "overflow": null,
            "_model_module_version": "1.2.0",
            "_view_count": null,
            "flex_flow": null,
            "width": null,
            "min_width": null,
            "border": null,
            "align_items": null,
            "bottom": null,
            "_model_module": "@jupyter-widgets/base",
            "top": null,
            "grid_column": null,
            "overflow_y": null,
            "overflow_x": null,
            "grid_auto_flow": null,
            "grid_area": null,
            "grid_template_columns": null,
            "flex": null,
            "_model_name": "LayoutModel",
            "justify_items": null,
            "grid_row": null,
            "max_height": null,
            "align_content": null,
            "visibility": null,
            "align_self": null,
            "height": null,
            "min_height": null,
            "padding": null,
            "grid_auto_rows": null,
            "grid_gap": null,
            "max_width": null,
            "order": null,
            "_view_module_version": "1.2.0",
            "grid_template_areas": null,
            "object_position": null,
            "object_fit": null,
            "grid_auto_columns": null,
            "margin": null,
            "display": null,
            "left": null
          }
        },
        "753d1590422c44aeab6c253cfff8ee62": {
          "model_module": "@jupyter-widgets/controls",
          "model_name": "DescriptionStyleModel",
          "state": {
            "_view_name": "StyleView",
            "_model_name": "DescriptionStyleModel",
            "description_width": "",
            "_view_module": "@jupyter-widgets/base",
            "_model_module_version": "1.5.0",
            "_view_count": null,
            "_view_module_version": "1.2.0",
            "_model_module": "@jupyter-widgets/controls"
          }
        },
        "f336714fd7734f10999f1f3ffdeaba53": {
          "model_module": "@jupyter-widgets/base",
          "model_name": "LayoutModel",
          "state": {
            "_view_name": "LayoutView",
            "grid_template_rows": null,
            "right": null,
            "justify_content": null,
            "_view_module": "@jupyter-widgets/base",
            "overflow": null,
            "_model_module_version": "1.2.0",
            "_view_count": null,
            "flex_flow": null,
            "width": null,
            "min_width": null,
            "border": null,
            "align_items": null,
            "bottom": null,
            "_model_module": "@jupyter-widgets/base",
            "top": null,
            "grid_column": null,
            "overflow_y": null,
            "overflow_x": null,
            "grid_auto_flow": null,
            "grid_area": null,
            "grid_template_columns": null,
            "flex": null,
            "_model_name": "LayoutModel",
            "justify_items": null,
            "grid_row": null,
            "max_height": null,
            "align_content": null,
            "visibility": null,
            "align_self": null,
            "height": null,
            "min_height": null,
            "padding": null,
            "grid_auto_rows": null,
            "grid_gap": null,
            "max_width": null,
            "order": null,
            "_view_module_version": "1.2.0",
            "grid_template_areas": null,
            "object_position": null,
            "object_fit": null,
            "grid_auto_columns": null,
            "margin": null,
            "display": null,
            "left": null
          }
        },
        "6bd5e97fa8bd4a9cb24789d2c7bdede4": {
          "model_module": "@jupyter-widgets/controls",
          "model_name": "HBoxModel",
          "state": {
            "_view_name": "HBoxView",
            "_dom_classes": [],
            "_model_name": "HBoxModel",
            "_view_module": "@jupyter-widgets/controls",
            "_model_module_version": "1.5.0",
            "_view_count": null,
            "_view_module_version": "1.5.0",
            "box_style": "",
            "layout": "IPY_MODEL_28b453b5e60340a39259a499d70aa6d8",
            "_model_module": "@jupyter-widgets/controls",
            "children": [
              "IPY_MODEL_1d725d498c3d4565a9e8fee6b70b80be",
              "IPY_MODEL_809991a38bec44038b66a0cb72d77634"
            ]
          }
        },
        "28b453b5e60340a39259a499d70aa6d8": {
          "model_module": "@jupyter-widgets/base",
          "model_name": "LayoutModel",
          "state": {
            "_view_name": "LayoutView",
            "grid_template_rows": null,
            "right": null,
            "justify_content": null,
            "_view_module": "@jupyter-widgets/base",
            "overflow": null,
            "_model_module_version": "1.2.0",
            "_view_count": null,
            "flex_flow": null,
            "width": null,
            "min_width": null,
            "border": null,
            "align_items": null,
            "bottom": null,
            "_model_module": "@jupyter-widgets/base",
            "top": null,
            "grid_column": null,
            "overflow_y": null,
            "overflow_x": null,
            "grid_auto_flow": null,
            "grid_area": null,
            "grid_template_columns": null,
            "flex": null,
            "_model_name": "LayoutModel",
            "justify_items": null,
            "grid_row": null,
            "max_height": null,
            "align_content": null,
            "visibility": null,
            "align_self": null,
            "height": null,
            "min_height": null,
            "padding": null,
            "grid_auto_rows": null,
            "grid_gap": null,
            "max_width": null,
            "order": null,
            "_view_module_version": "1.2.0",
            "grid_template_areas": null,
            "object_position": null,
            "object_fit": null,
            "grid_auto_columns": null,
            "margin": null,
            "display": null,
            "left": null
          }
        },
        "1d725d498c3d4565a9e8fee6b70b80be": {
          "model_module": "@jupyter-widgets/controls",
          "model_name": "FloatProgressModel",
          "state": {
            "_view_name": "ProgressView",
            "style": "IPY_MODEL_3c46a2305e0c47cda5f2745886bbe7f1",
            "_dom_classes": [],
            "description": "Downloading: 100%",
            "_model_name": "FloatProgressModel",
            "bar_style": "success",
            "max": 690,
            "_view_module": "@jupyter-widgets/controls",
            "_model_module_version": "1.5.0",
            "value": 690,
            "_view_count": null,
            "_view_module_version": "1.5.0",
            "orientation": "horizontal",
            "min": 0,
            "description_tooltip": null,
            "_model_module": "@jupyter-widgets/controls",
            "layout": "IPY_MODEL_898136a1d7fa46819e0a33ae17bf88f6"
          }
        },
        "809991a38bec44038b66a0cb72d77634": {
          "model_module": "@jupyter-widgets/controls",
          "model_name": "HTMLModel",
          "state": {
            "_view_name": "HTMLView",
            "style": "IPY_MODEL_1ab4ae8d60ab4d20b771c2cf5d3021c2",
            "_dom_classes": [],
            "description": "",
            "_model_name": "HTMLModel",
            "placeholder": "​",
            "_view_module": "@jupyter-widgets/controls",
            "_model_module_version": "1.5.0",
            "value": " 690/690 [00:00&lt;00:00, 892B/s]",
            "_view_count": null,
            "_view_module_version": "1.5.0",
            "description_tooltip": null,
            "_model_module": "@jupyter-widgets/controls",
            "layout": "IPY_MODEL_4f36f212f2a44f8bb5150822558faf99"
          }
        },
        "3c46a2305e0c47cda5f2745886bbe7f1": {
          "model_module": "@jupyter-widgets/controls",
          "model_name": "ProgressStyleModel",
          "state": {
            "_view_name": "StyleView",
            "_model_name": "ProgressStyleModel",
            "description_width": "initial",
            "_view_module": "@jupyter-widgets/base",
            "_model_module_version": "1.5.0",
            "_view_count": null,
            "_view_module_version": "1.2.0",
            "bar_color": null,
            "_model_module": "@jupyter-widgets/controls"
          }
        },
        "898136a1d7fa46819e0a33ae17bf88f6": {
          "model_module": "@jupyter-widgets/base",
          "model_name": "LayoutModel",
          "state": {
            "_view_name": "LayoutView",
            "grid_template_rows": null,
            "right": null,
            "justify_content": null,
            "_view_module": "@jupyter-widgets/base",
            "overflow": null,
            "_model_module_version": "1.2.0",
            "_view_count": null,
            "flex_flow": null,
            "width": null,
            "min_width": null,
            "border": null,
            "align_items": null,
            "bottom": null,
            "_model_module": "@jupyter-widgets/base",
            "top": null,
            "grid_column": null,
            "overflow_y": null,
            "overflow_x": null,
            "grid_auto_flow": null,
            "grid_area": null,
            "grid_template_columns": null,
            "flex": null,
            "_model_name": "LayoutModel",
            "justify_items": null,
            "grid_row": null,
            "max_height": null,
            "align_content": null,
            "visibility": null,
            "align_self": null,
            "height": null,
            "min_height": null,
            "padding": null,
            "grid_auto_rows": null,
            "grid_gap": null,
            "max_width": null,
            "order": null,
            "_view_module_version": "1.2.0",
            "grid_template_areas": null,
            "object_position": null,
            "object_fit": null,
            "grid_auto_columns": null,
            "margin": null,
            "display": null,
            "left": null
          }
        },
        "1ab4ae8d60ab4d20b771c2cf5d3021c2": {
          "model_module": "@jupyter-widgets/controls",
          "model_name": "DescriptionStyleModel",
          "state": {
            "_view_name": "StyleView",
            "_model_name": "DescriptionStyleModel",
            "description_width": "",
            "_view_module": "@jupyter-widgets/base",
            "_model_module_version": "1.5.0",
            "_view_count": null,
            "_view_module_version": "1.2.0",
            "_model_module": "@jupyter-widgets/controls"
          }
        },
        "4f36f212f2a44f8bb5150822558faf99": {
          "model_module": "@jupyter-widgets/base",
          "model_name": "LayoutModel",
          "state": {
            "_view_name": "LayoutView",
            "grid_template_rows": null,
            "right": null,
            "justify_content": null,
            "_view_module": "@jupyter-widgets/base",
            "overflow": null,
            "_model_module_version": "1.2.0",
            "_view_count": null,
            "flex_flow": null,
            "width": null,
            "min_width": null,
            "border": null,
            "align_items": null,
            "bottom": null,
            "_model_module": "@jupyter-widgets/base",
            "top": null,
            "grid_column": null,
            "overflow_y": null,
            "overflow_x": null,
            "grid_auto_flow": null,
            "grid_area": null,
            "grid_template_columns": null,
            "flex": null,
            "_model_name": "LayoutModel",
            "justify_items": null,
            "grid_row": null,
            "max_height": null,
            "align_content": null,
            "visibility": null,
            "align_self": null,
            "height": null,
            "min_height": null,
            "padding": null,
            "grid_auto_rows": null,
            "grid_gap": null,
            "max_width": null,
            "order": null,
            "_view_module_version": "1.2.0",
            "grid_template_areas": null,
            "object_position": null,
            "object_fit": null,
            "grid_auto_columns": null,
            "margin": null,
            "display": null,
            "left": null
          }
        },
        "4b8102dbd58647b09d56b0338def3554": {
          "model_module": "@jupyter-widgets/controls",
          "model_name": "HBoxModel",
          "state": {
            "_view_name": "HBoxView",
            "_dom_classes": [],
            "_model_name": "HBoxModel",
            "_view_module": "@jupyter-widgets/controls",
            "_model_module_version": "1.5.0",
            "_view_count": null,
            "_view_module_version": "1.5.0",
            "box_style": "",
            "layout": "IPY_MODEL_d6233690a2804b29ae303bdc5d02aa31",
            "_model_module": "@jupyter-widgets/controls",
            "children": [
              "IPY_MODEL_4ebfd777494e4e5f967eb1245debc861",
              "IPY_MODEL_cfce905881034e02acba10c8c61a5538"
            ]
          }
        },
        "d6233690a2804b29ae303bdc5d02aa31": {
          "model_module": "@jupyter-widgets/base",
          "model_name": "LayoutModel",
          "state": {
            "_view_name": "LayoutView",
            "grid_template_rows": null,
            "right": null,
            "justify_content": null,
            "_view_module": "@jupyter-widgets/base",
            "overflow": null,
            "_model_module_version": "1.2.0",
            "_view_count": null,
            "flex_flow": null,
            "width": null,
            "min_width": null,
            "border": null,
            "align_items": null,
            "bottom": null,
            "_model_module": "@jupyter-widgets/base",
            "top": null,
            "grid_column": null,
            "overflow_y": null,
            "overflow_x": null,
            "grid_auto_flow": null,
            "grid_area": null,
            "grid_template_columns": null,
            "flex": null,
            "_model_name": "LayoutModel",
            "justify_items": null,
            "grid_row": null,
            "max_height": null,
            "align_content": null,
            "visibility": null,
            "align_self": null,
            "height": null,
            "min_height": null,
            "padding": null,
            "grid_auto_rows": null,
            "grid_gap": null,
            "max_width": null,
            "order": null,
            "_view_module_version": "1.2.0",
            "grid_template_areas": null,
            "object_position": null,
            "object_fit": null,
            "grid_auto_columns": null,
            "margin": null,
            "display": null,
            "left": null
          }
        },
        "4ebfd777494e4e5f967eb1245debc861": {
          "model_module": "@jupyter-widgets/controls",
          "model_name": "FloatProgressModel",
          "state": {
            "_view_name": "ProgressView",
            "style": "IPY_MODEL_b80f4d1da73347e480cf57e8aae02a24",
            "_dom_classes": [],
            "description": "Downloading: 100%",
            "_model_name": "FloatProgressModel",
            "bar_style": "success",
            "max": 1302594480,
            "_view_module": "@jupyter-widgets/controls",
            "_model_module_version": "1.5.0",
            "value": 1302594480,
            "_view_count": null,
            "_view_module_version": "1.5.0",
            "orientation": "horizontal",
            "min": 0,
            "description_tooltip": null,
            "_model_module": "@jupyter-widgets/controls",
            "layout": "IPY_MODEL_788e66de26294868b56380e7e3694a21"
          }
        },
        "cfce905881034e02acba10c8c61a5538": {
          "model_module": "@jupyter-widgets/controls",
          "model_name": "HTMLModel",
          "state": {
            "_view_name": "HTMLView",
            "style": "IPY_MODEL_bdfba3d5998443afa2c7852c4d32d64e",
            "_dom_classes": [],
            "description": "",
            "_model_name": "HTMLModel",
            "placeholder": "​",
            "_view_module": "@jupyter-widgets/controls",
            "_model_module_version": "1.5.0",
            "value": " 1.30G/1.30G [00:35&lt;00:00, 36.7MB/s]",
            "_view_count": null,
            "_view_module_version": "1.5.0",
            "description_tooltip": null,
            "_model_module": "@jupyter-widgets/controls",
            "layout": "IPY_MODEL_5f89d85ca368480f9a210ce2335d50fc"
          }
        },
        "b80f4d1da73347e480cf57e8aae02a24": {
          "model_module": "@jupyter-widgets/controls",
          "model_name": "ProgressStyleModel",
          "state": {
            "_view_name": "StyleView",
            "_model_name": "ProgressStyleModel",
            "description_width": "initial",
            "_view_module": "@jupyter-widgets/base",
            "_model_module_version": "1.5.0",
            "_view_count": null,
            "_view_module_version": "1.2.0",
            "bar_color": null,
            "_model_module": "@jupyter-widgets/controls"
          }
        },
        "788e66de26294868b56380e7e3694a21": {
          "model_module": "@jupyter-widgets/base",
          "model_name": "LayoutModel",
          "state": {
            "_view_name": "LayoutView",
            "grid_template_rows": null,
            "right": null,
            "justify_content": null,
            "_view_module": "@jupyter-widgets/base",
            "overflow": null,
            "_model_module_version": "1.2.0",
            "_view_count": null,
            "flex_flow": null,
            "width": null,
            "min_width": null,
            "border": null,
            "align_items": null,
            "bottom": null,
            "_model_module": "@jupyter-widgets/base",
            "top": null,
            "grid_column": null,
            "overflow_y": null,
            "overflow_x": null,
            "grid_auto_flow": null,
            "grid_area": null,
            "grid_template_columns": null,
            "flex": null,
            "_model_name": "LayoutModel",
            "justify_items": null,
            "grid_row": null,
            "max_height": null,
            "align_content": null,
            "visibility": null,
            "align_self": null,
            "height": null,
            "min_height": null,
            "padding": null,
            "grid_auto_rows": null,
            "grid_gap": null,
            "max_width": null,
            "order": null,
            "_view_module_version": "1.2.0",
            "grid_template_areas": null,
            "object_position": null,
            "object_fit": null,
            "grid_auto_columns": null,
            "margin": null,
            "display": null,
            "left": null
          }
        },
        "bdfba3d5998443afa2c7852c4d32d64e": {
          "model_module": "@jupyter-widgets/controls",
          "model_name": "DescriptionStyleModel",
          "state": {
            "_view_name": "StyleView",
            "_model_name": "DescriptionStyleModel",
            "description_width": "",
            "_view_module": "@jupyter-widgets/base",
            "_model_module_version": "1.5.0",
            "_view_count": null,
            "_view_module_version": "1.2.0",
            "_model_module": "@jupyter-widgets/controls"
          }
        },
        "5f89d85ca368480f9a210ce2335d50fc": {
          "model_module": "@jupyter-widgets/base",
          "model_name": "LayoutModel",
          "state": {
            "_view_name": "LayoutView",
            "grid_template_rows": null,
            "right": null,
            "justify_content": null,
            "_view_module": "@jupyter-widgets/base",
            "overflow": null,
            "_model_module_version": "1.2.0",
            "_view_count": null,
            "flex_flow": null,
            "width": null,
            "min_width": null,
            "border": null,
            "align_items": null,
            "bottom": null,
            "_model_module": "@jupyter-widgets/base",
            "top": null,
            "grid_column": null,
            "overflow_y": null,
            "overflow_x": null,
            "grid_auto_flow": null,
            "grid_area": null,
            "grid_template_columns": null,
            "flex": null,
            "_model_name": "LayoutModel",
            "justify_items": null,
            "grid_row": null,
            "max_height": null,
            "align_content": null,
            "visibility": null,
            "align_self": null,
            "height": null,
            "min_height": null,
            "padding": null,
            "grid_auto_rows": null,
            "grid_gap": null,
            "max_width": null,
            "order": null,
            "_view_module_version": "1.2.0",
            "grid_template_areas": null,
            "object_position": null,
            "object_fit": null,
            "grid_auto_columns": null,
            "margin": null,
            "display": null,
            "left": null
          }
        }
      }
    }
  },
  "cells": [
    {
      "cell_type": "code",
      "metadata": {
        "colab": {
          "base_uri": "https://localhost:8080/"
        },
        "id": "ZDQS34FPsPSJ",
        "outputId": "3cabaf27-5b7f-4399-9892-3e32b2b0ee5f"
      },
      "source": [
        "!pip install transformers"
      ],
      "execution_count": null,
      "outputs": [
        {
          "output_type": "stream",
          "text": [
            "Collecting transformers\n",
            "\u001b[?25l  Downloading https://files.pythonhosted.org/packages/d8/b2/57495b5309f09fa501866e225c84532d1fd89536ea62406b2181933fb418/transformers-4.5.1-py3-none-any.whl (2.1MB)\n",
            "\r\u001b[K     |▏                               | 10kB 15.6MB/s eta 0:00:01\r\u001b[K     |▎                               | 20kB 20.0MB/s eta 0:00:01\r\u001b[K     |▌                               | 30kB 18.7MB/s eta 0:00:01\r\u001b[K     |▋                               | 40kB 17.4MB/s eta 0:00:01\r\u001b[K     |▉                               | 51kB 12.1MB/s eta 0:00:01\r\u001b[K     |█                               | 61kB 13.5MB/s eta 0:00:01\r\u001b[K     |█▏                              | 71kB 12.0MB/s eta 0:00:01\r\u001b[K     |█▎                              | 81kB 12.4MB/s eta 0:00:01\r\u001b[K     |█▍                              | 92kB 11.4MB/s eta 0:00:01\r\u001b[K     |█▋                              | 102kB 11.5MB/s eta 0:00:01\r\u001b[K     |█▊                              | 112kB 11.5MB/s eta 0:00:01\r\u001b[K     |██                              | 122kB 11.5MB/s eta 0:00:01\r\u001b[K     |██                              | 133kB 11.5MB/s eta 0:00:01\r\u001b[K     |██▎                             | 143kB 11.5MB/s eta 0:00:01\r\u001b[K     |██▍                             | 153kB 11.5MB/s eta 0:00:01\r\u001b[K     |██▌                             | 163kB 11.5MB/s eta 0:00:01\r\u001b[K     |██▊                             | 174kB 11.5MB/s eta 0:00:01\r\u001b[K     |██▉                             | 184kB 11.5MB/s eta 0:00:01\r\u001b[K     |███                             | 194kB 11.5MB/s eta 0:00:01\r\u001b[K     |███▏                            | 204kB 11.5MB/s eta 0:00:01\r\u001b[K     |███▍                            | 215kB 11.5MB/s eta 0:00:01\r\u001b[K     |███▌                            | 225kB 11.5MB/s eta 0:00:01\r\u001b[K     |███▋                            | 235kB 11.5MB/s eta 0:00:01\r\u001b[K     |███▉                            | 245kB 11.5MB/s eta 0:00:01\r\u001b[K     |████                            | 256kB 11.5MB/s eta 0:00:01\r\u001b[K     |████▏                           | 266kB 11.5MB/s eta 0:00:01\r\u001b[K     |████▎                           | 276kB 11.5MB/s eta 0:00:01\r\u001b[K     |████▌                           | 286kB 11.5MB/s eta 0:00:01\r\u001b[K     |████▋                           | 296kB 11.5MB/s eta 0:00:01\r\u001b[K     |████▊                           | 307kB 11.5MB/s eta 0:00:01\r\u001b[K     |█████                           | 317kB 11.5MB/s eta 0:00:01\r\u001b[K     |█████                           | 327kB 11.5MB/s eta 0:00:01\r\u001b[K     |█████▎                          | 337kB 11.5MB/s eta 0:00:01\r\u001b[K     |█████▍                          | 348kB 11.5MB/s eta 0:00:01\r\u001b[K     |█████▋                          | 358kB 11.5MB/s eta 0:00:01\r\u001b[K     |█████▊                          | 368kB 11.5MB/s eta 0:00:01\r\u001b[K     |█████▉                          | 378kB 11.5MB/s eta 0:00:01\r\u001b[K     |██████                          | 389kB 11.5MB/s eta 0:00:01\r\u001b[K     |██████▏                         | 399kB 11.5MB/s eta 0:00:01\r\u001b[K     |██████▍                         | 409kB 11.5MB/s eta 0:00:01\r\u001b[K     |██████▌                         | 419kB 11.5MB/s eta 0:00:01\r\u001b[K     |██████▊                         | 430kB 11.5MB/s eta 0:00:01\r\u001b[K     |██████▉                         | 440kB 11.5MB/s eta 0:00:01\r\u001b[K     |███████                         | 450kB 11.5MB/s eta 0:00:01\r\u001b[K     |███████▏                        | 460kB 11.5MB/s eta 0:00:01\r\u001b[K     |███████▎                        | 471kB 11.5MB/s eta 0:00:01\r\u001b[K     |███████▌                        | 481kB 11.5MB/s eta 0:00:01\r\u001b[K     |███████▋                        | 491kB 11.5MB/s eta 0:00:01\r\u001b[K     |███████▉                        | 501kB 11.5MB/s eta 0:00:01\r\u001b[K     |████████                        | 512kB 11.5MB/s eta 0:00:01\r\u001b[K     |████████                        | 522kB 11.5MB/s eta 0:00:01\r\u001b[K     |████████▎                       | 532kB 11.5MB/s eta 0:00:01\r\u001b[K     |████████▍                       | 542kB 11.5MB/s eta 0:00:01\r\u001b[K     |████████▋                       | 552kB 11.5MB/s eta 0:00:01\r\u001b[K     |████████▊                       | 563kB 11.5MB/s eta 0:00:01\r\u001b[K     |█████████                       | 573kB 11.5MB/s eta 0:00:01\r\u001b[K     |█████████                       | 583kB 11.5MB/s eta 0:00:01\r\u001b[K     |█████████▎                      | 593kB 11.5MB/s eta 0:00:01\r\u001b[K     |█████████▍                      | 604kB 11.5MB/s eta 0:00:01\r\u001b[K     |█████████▌                      | 614kB 11.5MB/s eta 0:00:01\r\u001b[K     |█████████▊                      | 624kB 11.5MB/s eta 0:00:01\r\u001b[K     |█████████▉                      | 634kB 11.5MB/s eta 0:00:01\r\u001b[K     |██████████                      | 645kB 11.5MB/s eta 0:00:01\r\u001b[K     |██████████▏                     | 655kB 11.5MB/s eta 0:00:01\r\u001b[K     |██████████▍                     | 665kB 11.5MB/s eta 0:00:01\r\u001b[K     |██████████▌                     | 675kB 11.5MB/s eta 0:00:01\r\u001b[K     |██████████▋                     | 686kB 11.5MB/s eta 0:00:01\r\u001b[K     |██████████▉                     | 696kB 11.5MB/s eta 0:00:01\r\u001b[K     |███████████                     | 706kB 11.5MB/s eta 0:00:01\r\u001b[K     |███████████▏                    | 716kB 11.5MB/s eta 0:00:01\r\u001b[K     |███████████▎                    | 727kB 11.5MB/s eta 0:00:01\r\u001b[K     |███████████▌                    | 737kB 11.5MB/s eta 0:00:01\r\u001b[K     |███████████▋                    | 747kB 11.5MB/s eta 0:00:01\r\u001b[K     |███████████▊                    | 757kB 11.5MB/s eta 0:00:01\r\u001b[K     |████████████                    | 768kB 11.5MB/s eta 0:00:01\r\u001b[K     |████████████                    | 778kB 11.5MB/s eta 0:00:01\r\u001b[K     |████████████▎                   | 788kB 11.5MB/s eta 0:00:01\r\u001b[K     |████████████▍                   | 798kB 11.5MB/s eta 0:00:01\r\u001b[K     |████████████▋                   | 808kB 11.5MB/s eta 0:00:01\r\u001b[K     |████████████▊                   | 819kB 11.5MB/s eta 0:00:01\r\u001b[K     |████████████▉                   | 829kB 11.5MB/s eta 0:00:01\r\u001b[K     |█████████████                   | 839kB 11.5MB/s eta 0:00:01\r\u001b[K     |█████████████▏                  | 849kB 11.5MB/s eta 0:00:01\r\u001b[K     |█████████████▍                  | 860kB 11.5MB/s eta 0:00:01\r\u001b[K     |█████████████▌                  | 870kB 11.5MB/s eta 0:00:01\r\u001b[K     |█████████████▊                  | 880kB 11.5MB/s eta 0:00:01\r\u001b[K     |█████████████▉                  | 890kB 11.5MB/s eta 0:00:01\r\u001b[K     |██████████████                  | 901kB 11.5MB/s eta 0:00:01\r\u001b[K     |██████████████▏                 | 911kB 11.5MB/s eta 0:00:01\r\u001b[K     |██████████████▎                 | 921kB 11.5MB/s eta 0:00:01\r\u001b[K     |██████████████▌                 | 931kB 11.5MB/s eta 0:00:01\r\u001b[K     |██████████████▋                 | 942kB 11.5MB/s eta 0:00:01\r\u001b[K     |██████████████▉                 | 952kB 11.5MB/s eta 0:00:01\r\u001b[K     |███████████████                 | 962kB 11.5MB/s eta 0:00:01\r\u001b[K     |███████████████                 | 972kB 11.5MB/s eta 0:00:01\r\u001b[K     |███████████████▎                | 983kB 11.5MB/s eta 0:00:01\r\u001b[K     |███████████████▍                | 993kB 11.5MB/s eta 0:00:01\r\u001b[K     |███████████████▋                | 1.0MB 11.5MB/s eta 0:00:01\r\u001b[K     |███████████████▊                | 1.0MB 11.5MB/s eta 0:00:01\r\u001b[K     |████████████████                | 1.0MB 11.5MB/s eta 0:00:01\r\u001b[K     |████████████████                | 1.0MB 11.5MB/s eta 0:00:01\r\u001b[K     |████████████████▏               | 1.0MB 11.5MB/s eta 0:00:01\r\u001b[K     |████████████████▍               | 1.1MB 11.5MB/s eta 0:00:01\r\u001b[K     |████████████████▌               | 1.1MB 11.5MB/s eta 0:00:01\r\u001b[K     |████████████████▊               | 1.1MB 11.5MB/s eta 0:00:01\r\u001b[K     |████████████████▉               | 1.1MB 11.5MB/s eta 0:00:01\r\u001b[K     |█████████████████               | 1.1MB 11.5MB/s eta 0:00:01\r\u001b[K     |█████████████████▏              | 1.1MB 11.5MB/s eta 0:00:01\r\u001b[K     |█████████████████▍              | 1.1MB 11.5MB/s eta 0:00:01\r\u001b[K     |█████████████████▌              | 1.1MB 11.5MB/s eta 0:00:01\r\u001b[K     |█████████████████▋              | 1.1MB 11.5MB/s eta 0:00:01\r\u001b[K     |█████████████████▉              | 1.1MB 11.5MB/s eta 0:00:01\r\u001b[K     |██████████████████              | 1.2MB 11.5MB/s eta 0:00:01\r\u001b[K     |██████████████████▏             | 1.2MB 11.5MB/s eta 0:00:01\r\u001b[K     |██████████████████▎             | 1.2MB 11.5MB/s eta 0:00:01\r\u001b[K     |██████████████████▌             | 1.2MB 11.5MB/s eta 0:00:01\r\u001b[K     |██████████████████▋             | 1.2MB 11.5MB/s eta 0:00:01\r\u001b[K     |██████████████████▊             | 1.2MB 11.5MB/s eta 0:00:01\r\u001b[K     |███████████████████             | 1.2MB 11.5MB/s eta 0:00:01\r\u001b[K     |███████████████████             | 1.2MB 11.5MB/s eta 0:00:01\r\u001b[K     |███████████████████▎            | 1.2MB 11.5MB/s eta 0:00:01\r\u001b[K     |███████████████████▍            | 1.2MB 11.5MB/s eta 0:00:01\r\u001b[K     |███████████████████▋            | 1.3MB 11.5MB/s eta 0:00:01\r\u001b[K     |███████████████████▊            | 1.3MB 11.5MB/s eta 0:00:01\r\u001b[K     |███████████████████▉            | 1.3MB 11.5MB/s eta 0:00:01\r\u001b[K     |████████████████████            | 1.3MB 11.5MB/s eta 0:00:01\r\u001b[K     |████████████████████▏           | 1.3MB 11.5MB/s eta 0:00:01\r\u001b[K     |████████████████████▍           | 1.3MB 11.5MB/s eta 0:00:01\r\u001b[K     |████████████████████▌           | 1.3MB 11.5MB/s eta 0:00:01\r\u001b[K     |████████████████████▊           | 1.3MB 11.5MB/s eta 0:00:01\r\u001b[K     |████████████████████▉           | 1.3MB 11.5MB/s eta 0:00:01\r\u001b[K     |█████████████████████           | 1.4MB 11.5MB/s eta 0:00:01\r\u001b[K     |█████████████████████▏          | 1.4MB 11.5MB/s eta 0:00:01\r\u001b[K     |█████████████████████▎          | 1.4MB 11.5MB/s eta 0:00:01\r\u001b[K     |█████████████████████▌          | 1.4MB 11.5MB/s eta 0:00:01\r\u001b[K     |█████████████████████▋          | 1.4MB 11.5MB/s eta 0:00:01\r\u001b[K     |█████████████████████▉          | 1.4MB 11.5MB/s eta 0:00:01\r\u001b[K     |██████████████████████          | 1.4MB 11.5MB/s eta 0:00:01\r\u001b[K     |██████████████████████          | 1.4MB 11.5MB/s eta 0:00:01\r\u001b[K     |██████████████████████▎         | 1.4MB 11.5MB/s eta 0:00:01\r\u001b[K     |██████████████████████▍         | 1.4MB 11.5MB/s eta 0:00:01\r\u001b[K     |██████████████████████▋         | 1.5MB 11.5MB/s eta 0:00:01\r\u001b[K     |██████████████████████▊         | 1.5MB 11.5MB/s eta 0:00:01\r\u001b[K     |███████████████████████         | 1.5MB 11.5MB/s eta 0:00:01\r\u001b[K     |███████████████████████         | 1.5MB 11.5MB/s eta 0:00:01\r\u001b[K     |███████████████████████▏        | 1.5MB 11.5MB/s eta 0:00:01\r\u001b[K     |███████████████████████▍        | 1.5MB 11.5MB/s eta 0:00:01\r\u001b[K     |███████████████████████▌        | 1.5MB 11.5MB/s eta 0:00:01\r\u001b[K     |███████████████████████▊        | 1.5MB 11.5MB/s eta 0:00:01\r\u001b[K     |███████████████████████▉        | 1.5MB 11.5MB/s eta 0:00:01\r\u001b[K     |████████████████████████        | 1.5MB 11.5MB/s eta 0:00:01\r\u001b[K     |████████████████████████▏       | 1.6MB 11.5MB/s eta 0:00:01\r\u001b[K     |████████████████████████▎       | 1.6MB 11.5MB/s eta 0:00:01\r\u001b[K     |████████████████████████▌       | 1.6MB 11.5MB/s eta 0:00:01\r\u001b[K     |████████████████████████▋       | 1.6MB 11.5MB/s eta 0:00:01\r\u001b[K     |████████████████████████▉       | 1.6MB 11.5MB/s eta 0:00:01\r\u001b[K     |█████████████████████████       | 1.6MB 11.5MB/s eta 0:00:01\r\u001b[K     |█████████████████████████▏      | 1.6MB 11.5MB/s eta 0:00:01\r\u001b[K     |█████████████████████████▎      | 1.6MB 11.5MB/s eta 0:00:01\r\u001b[K     |█████████████████████████▍      | 1.6MB 11.5MB/s eta 0:00:01\r\u001b[K     |█████████████████████████▋      | 1.6MB 11.5MB/s eta 0:00:01\r\u001b[K     |█████████████████████████▊      | 1.7MB 11.5MB/s eta 0:00:01\r\u001b[K     |██████████████████████████      | 1.7MB 11.5MB/s eta 0:00:01\r\u001b[K     |██████████████████████████      | 1.7MB 11.5MB/s eta 0:00:01\r\u001b[K     |██████████████████████████▎     | 1.7MB 11.5MB/s eta 0:00:01\r\u001b[K     |██████████████████████████▍     | 1.7MB 11.5MB/s eta 0:00:01\r\u001b[K     |██████████████████████████▋     | 1.7MB 11.5MB/s eta 0:00:01\r\u001b[K     |██████████████████████████▊     | 1.7MB 11.5MB/s eta 0:00:01\r\u001b[K     |██████████████████████████▉     | 1.7MB 11.5MB/s eta 0:00:01\r\u001b[K     |███████████████████████████     | 1.7MB 11.5MB/s eta 0:00:01\r\u001b[K     |███████████████████████████▏    | 1.8MB 11.5MB/s eta 0:00:01\r\u001b[K     |███████████████████████████▍    | 1.8MB 11.5MB/s eta 0:00:01\r\u001b[K     |███████████████████████████▌    | 1.8MB 11.5MB/s eta 0:00:01\r\u001b[K     |███████████████████████████▊    | 1.8MB 11.5MB/s eta 0:00:01\r\u001b[K     |███████████████████████████▉    | 1.8MB 11.5MB/s eta 0:00:01\r\u001b[K     |████████████████████████████    | 1.8MB 11.5MB/s eta 0:00:01\r\u001b[K     |████████████████████████████▏   | 1.8MB 11.5MB/s eta 0:00:01\r\u001b[K     |████████████████████████████▎   | 1.8MB 11.5MB/s eta 0:00:01\r\u001b[K     |████████████████████████████▌   | 1.8MB 11.5MB/s eta 0:00:01\r\u001b[K     |████████████████████████████▋   | 1.8MB 11.5MB/s eta 0:00:01\r\u001b[K     |████████████████████████████▉   | 1.9MB 11.5MB/s eta 0:00:01\r\u001b[K     |█████████████████████████████   | 1.9MB 11.5MB/s eta 0:00:01\r\u001b[K     |█████████████████████████████   | 1.9MB 11.5MB/s eta 0:00:01\r\u001b[K     |█████████████████████████████▎  | 1.9MB 11.5MB/s eta 0:00:01\r\u001b[K     |█████████████████████████████▍  | 1.9MB 11.5MB/s eta 0:00:01\r\u001b[K     |█████████████████████████████▋  | 1.9MB 11.5MB/s eta 0:00:01\r\u001b[K     |█████████████████████████████▊  | 1.9MB 11.5MB/s eta 0:00:01\r\u001b[K     |██████████████████████████████  | 1.9MB 11.5MB/s eta 0:00:01\r\u001b[K     |██████████████████████████████  | 1.9MB 11.5MB/s eta 0:00:01\r\u001b[K     |██████████████████████████████▏ | 1.9MB 11.5MB/s eta 0:00:01\r\u001b[K     |██████████████████████████████▍ | 2.0MB 11.5MB/s eta 0:00:01\r\u001b[K     |██████████████████████████████▌ | 2.0MB 11.5MB/s eta 0:00:01\r\u001b[K     |██████████████████████████████▊ | 2.0MB 11.5MB/s eta 0:00:01\r\u001b[K     |██████████████████████████████▉ | 2.0MB 11.5MB/s eta 0:00:01\r\u001b[K     |███████████████████████████████ | 2.0MB 11.5MB/s eta 0:00:01\r\u001b[K     |███████████████████████████████▏| 2.0MB 11.5MB/s eta 0:00:01\r\u001b[K     |███████████████████████████████▎| 2.0MB 11.5MB/s eta 0:00:01\r\u001b[K     |███████████████████████████████▌| 2.0MB 11.5MB/s eta 0:00:01\r\u001b[K     |███████████████████████████████▋| 2.0MB 11.5MB/s eta 0:00:01\r\u001b[K     |███████████████████████████████▉| 2.0MB 11.5MB/s eta 0:00:01\r\u001b[K     |████████████████████████████████| 2.1MB 11.5MB/s eta 0:00:01\r\u001b[K     |████████████████████████████████| 2.1MB 11.5MB/s \n",
            "\u001b[?25hRequirement already satisfied: numpy>=1.17 in /usr/local/lib/python3.7/dist-packages (from transformers) (1.19.5)\n",
            "Requirement already satisfied: regex!=2019.12.17 in /usr/local/lib/python3.7/dist-packages (from transformers) (2019.12.20)\n",
            "Collecting tokenizers<0.11,>=0.10.1\n",
            "\u001b[?25l  Downloading https://files.pythonhosted.org/packages/ae/04/5b870f26a858552025a62f1649c20d29d2672c02ff3c3fb4c688ca46467a/tokenizers-0.10.2-cp37-cp37m-manylinux2010_x86_64.whl (3.3MB)\n",
            "\u001b[K     |████████████████████████████████| 3.3MB 52.5MB/s \n",
            "\u001b[?25hRequirement already satisfied: tqdm>=4.27 in /usr/local/lib/python3.7/dist-packages (from transformers) (4.41.1)\n",
            "Requirement already satisfied: packaging in /usr/local/lib/python3.7/dist-packages (from transformers) (20.9)\n",
            "Requirement already satisfied: requests in /usr/local/lib/python3.7/dist-packages (from transformers) (2.23.0)\n",
            "Requirement already satisfied: importlib-metadata; python_version < \"3.8\" in /usr/local/lib/python3.7/dist-packages (from transformers) (3.10.1)\n",
            "Requirement already satisfied: filelock in /usr/local/lib/python3.7/dist-packages (from transformers) (3.0.12)\n",
            "Collecting sacremoses\n",
            "\u001b[?25l  Downloading https://files.pythonhosted.org/packages/75/ee/67241dc87f266093c533a2d4d3d69438e57d7a90abb216fa076e7d475d4a/sacremoses-0.0.45-py3-none-any.whl (895kB)\n",
            "\u001b[K     |████████████████████████████████| 901kB 54.6MB/s \n",
            "\u001b[?25hRequirement already satisfied: pyparsing>=2.0.2 in /usr/local/lib/python3.7/dist-packages (from packaging->transformers) (2.4.7)\n",
            "Requirement already satisfied: certifi>=2017.4.17 in /usr/local/lib/python3.7/dist-packages (from requests->transformers) (2020.12.5)\n",
            "Requirement already satisfied: idna<3,>=2.5 in /usr/local/lib/python3.7/dist-packages (from requests->transformers) (2.10)\n",
            "Requirement already satisfied: chardet<4,>=3.0.2 in /usr/local/lib/python3.7/dist-packages (from requests->transformers) (3.0.4)\n",
            "Requirement already satisfied: urllib3!=1.25.0,!=1.25.1,<1.26,>=1.21.1 in /usr/local/lib/python3.7/dist-packages (from requests->transformers) (1.24.3)\n",
            "Requirement already satisfied: typing-extensions>=3.6.4; python_version < \"3.8\" in /usr/local/lib/python3.7/dist-packages (from importlib-metadata; python_version < \"3.8\"->transformers) (3.7.4.3)\n",
            "Requirement already satisfied: zipp>=0.5 in /usr/local/lib/python3.7/dist-packages (from importlib-metadata; python_version < \"3.8\"->transformers) (3.4.1)\n",
            "Requirement already satisfied: six in /usr/local/lib/python3.7/dist-packages (from sacremoses->transformers) (1.15.0)\n",
            "Requirement already satisfied: click in /usr/local/lib/python3.7/dist-packages (from sacremoses->transformers) (7.1.2)\n",
            "Requirement already satisfied: joblib in /usr/local/lib/python3.7/dist-packages (from sacremoses->transformers) (1.0.1)\n",
            "Installing collected packages: tokenizers, sacremoses, transformers\n",
            "Successfully installed sacremoses-0.0.45 tokenizers-0.10.2 transformers-4.5.1\n"
          ],
          "name": "stdout"
        }
      ]
    },
    {
      "cell_type": "code",
      "metadata": {
        "id": "KbR_aB5HsXAI"
      },
      "source": [
        "#######################################\n",
        "### -------- Load libraries ------- ###\n",
        "# Load Huggingface transformers\n",
        "from transformers import TFBertModel, BertConfig, BertTokenizer\n",
        "# Then what you need from tensorflow.keras\n",
        "from tensorflow.keras.layers import Input, Dropout, Dense\n",
        "from tensorflow.keras.callbacks import ModelCheckpoint\n",
        "from tensorflow.keras.models import Model\n",
        "from tensorflow.keras.optimizers import Adam\n",
        "from tensorflow.keras.callbacks import EarlyStopping\n",
        "from tensorflow.keras.initializers import TruncatedNormal\n",
        "from tensorflow.keras.losses import CategoricalCrossentropy\n",
        "from tensorflow.keras.metrics import CategoricalAccuracy\n",
        "from tensorflow.keras.utils import to_categorical\n",
        "# And pandas for data import + sklearn because you allways need sklearn\n",
        "import os\n",
        "import numpy as np\n",
        "import pandas as pd\n",
        "import tensorflow as tf\n",
        "import glob\n",
        "from tensorflow import keras\n",
        "from sklearn.model_selection import train_test_split\n",
        "from sklearn.metrics import classification_report"
      ],
      "execution_count": null,
      "outputs": []
    },
    {
      "cell_type": "code",
      "metadata": {
        "colab": {
          "base_uri": "https://localhost:8080/"
        },
        "id": "hfcilFkIscFh",
        "outputId": "a481830e-e2de-4e2e-8f3a-e21005fe5031"
      },
      "source": [
        "tf.config.list_physical_devices('GPU')"
      ],
      "execution_count": null,
      "outputs": [
        {
          "output_type": "execute_result",
          "data": {
            "text/plain": [
              "[PhysicalDevice(name='/physical_device:GPU:0', device_type='GPU')]"
            ]
          },
          "metadata": {
            "tags": []
          },
          "execution_count": 3
        }
      ]
    },
    {
      "cell_type": "code",
      "metadata": {
        "colab": {
          "base_uri": "https://localhost:8080/"
        },
        "id": "zvCfCtaGsdnn",
        "outputId": "99c37e42-a940-48d8-b4a6-383a69caa856"
      },
      "source": [
        "from google.colab import drive\n",
        "drive.mount('/content/gdrive')"
      ],
      "execution_count": null,
      "outputs": [
        {
          "output_type": "stream",
          "text": [
            "Mounted at /content/gdrive\n"
          ],
          "name": "stdout"
        }
      ]
    },
    {
      "cell_type": "markdown",
      "metadata": {
        "id": "TrnUMslNvHEr"
      },
      "source": [
        "# Define Model Structure and Load Best Weights"
      ]
    },
    {
      "cell_type": "code",
      "metadata": {
        "colab": {
          "base_uri": "https://localhost:8080/",
          "height": 426,
          "referenced_widgets": [
            "5d3239454f9749728ae95948719b48cd",
            "15346b6e5b1e4a36bce373f93c8de31e",
            "d0da9e97fbd24bb18499c5f0e97bc4ee",
            "f9ad15425a494deaa9990278e4dfdb9f",
            "1e19491919ff45a0bb5403b848e943ad",
            "ef0177a20246496cb7a0df2322a7acf9",
            "b5b93055301344bc928a40f969a74c22",
            "847fd4d935bf417394f6456dd2cd2121",
            "cfd432ff7ffd499e95b721897e80a2ad",
            "bf50fa20d8444bab954c7298601e9eaa",
            "570de13d264644d993b09f35f8624812",
            "d0d0c2b35ab14a50a8746b153afe50e6",
            "89d192640d22406fb85ec63def2c7c28",
            "85dbf85b1f004f4aa91c4a4d387c766a",
            "2197579f1a764b39b64174c1a65accd4",
            "378c788078244781a3fc591cf9718a32",
            "854f6277fccf4d66a4afcba3b69e8abc",
            "9f8c7f62b8314d2e8756fa60d26a3f85",
            "fbeb5699eb3a4d9f863ce2ffbe6cda48",
            "80c6804bda2a4a5281f6a6360f245b36",
            "f3bb423765ce4a7e89d8132675cb167e",
            "31fcd703147847bd91ddb7a3a6bde941",
            "0d505e8044e340f08860d8d6dd9d8e3a",
            "d2b8e2f63fb844f783e49a185a4eabe2",
            "1e1f03ace7c54470bdd956ff31a72534",
            "7cbc0eb479e74592b9db556e2fb476f2",
            "4b87dcb20b67468083493ccb7f504344",
            "a1994eaef6994c5aa8373f7ad19614bf",
            "adc858a268c94f3683bc296c3f0eedf6",
            "a2bc6caad1854d39a8ed4f47808ec598",
            "167975fa497a4eeca561c73e9a5e1f42",
            "637911f1f6c749e5a4570e821f975e28",
            "e7c3f02e795b4ce28b5553ea3c9d6319",
            "6896151aa9314ed4b839bbea20e3b6e4",
            "c749fca0ff2247cbb6e0b2988a0800d6",
            "10ae5233a1dc49bfb5c6d97f304e41c0",
            "1bbb13c3b92f440ea81cbfffda58b59e",
            "2d907eafdec949c4a74863ea4578b781",
            "753d1590422c44aeab6c253cfff8ee62",
            "f336714fd7734f10999f1f3ffdeaba53",
            "6bd5e97fa8bd4a9cb24789d2c7bdede4",
            "28b453b5e60340a39259a499d70aa6d8",
            "1d725d498c3d4565a9e8fee6b70b80be",
            "809991a38bec44038b66a0cb72d77634",
            "3c46a2305e0c47cda5f2745886bbe7f1",
            "898136a1d7fa46819e0a33ae17bf88f6",
            "1ab4ae8d60ab4d20b771c2cf5d3021c2",
            "4f36f212f2a44f8bb5150822558faf99",
            "4b8102dbd58647b09d56b0338def3554",
            "d6233690a2804b29ae303bdc5d02aa31",
            "4ebfd777494e4e5f967eb1245debc861",
            "cfce905881034e02acba10c8c61a5538",
            "b80f4d1da73347e480cf57e8aae02a24",
            "788e66de26294868b56380e7e3694a21",
            "bdfba3d5998443afa2c7852c4d32d64e",
            "5f89d85ca368480f9a210ce2335d50fc"
          ]
        },
        "id": "RfEpDLLktQJC",
        "outputId": "07651719-baf7-4fba-cdb4-705c5778a82e"
      },
      "source": [
        "model_name = 'hfl/chinese-roberta-wwm-ext-large'\n",
        "tokenizer = BertTokenizer.from_pretrained(model_name)\n",
        "bert = TFBertModel.from_pretrained(model_name)\n",
        "config = BertConfig.from_pretrained(model_name)\n",
        "config.output_hidden_states = False"
      ],
      "execution_count": null,
      "outputs": [
        {
          "output_type": "display_data",
          "data": {
            "application/vnd.jupyter.widget-view+json": {
              "model_id": "5d3239454f9749728ae95948719b48cd",
              "version_minor": 0,
              "version_major": 2
            },
            "text/plain": [
              "HBox(children=(FloatProgress(value=0.0, description='Downloading', max=109540.0, style=ProgressStyle(descripti…"
            ]
          },
          "metadata": {
            "tags": []
          }
        },
        {
          "output_type": "stream",
          "text": [
            "\n"
          ],
          "name": "stdout"
        },
        {
          "output_type": "display_data",
          "data": {
            "application/vnd.jupyter.widget-view+json": {
              "model_id": "cfd432ff7ffd499e95b721897e80a2ad",
              "version_minor": 0,
              "version_major": 2
            },
            "text/plain": [
              "HBox(children=(FloatProgress(value=0.0, description='Downloading', max=2.0, style=ProgressStyle(description_wi…"
            ]
          },
          "metadata": {
            "tags": []
          }
        },
        {
          "output_type": "stream",
          "text": [
            "\n"
          ],
          "name": "stdout"
        },
        {
          "output_type": "display_data",
          "data": {
            "application/vnd.jupyter.widget-view+json": {
              "model_id": "854f6277fccf4d66a4afcba3b69e8abc",
              "version_minor": 0,
              "version_major": 2
            },
            "text/plain": [
              "HBox(children=(FloatProgress(value=0.0, description='Downloading', max=112.0, style=ProgressStyle(description_…"
            ]
          },
          "metadata": {
            "tags": []
          }
        },
        {
          "output_type": "stream",
          "text": [
            "\n"
          ],
          "name": "stdout"
        },
        {
          "output_type": "display_data",
          "data": {
            "application/vnd.jupyter.widget-view+json": {
              "model_id": "1e1f03ace7c54470bdd956ff31a72534",
              "version_minor": 0,
              "version_major": 2
            },
            "text/plain": [
              "HBox(children=(FloatProgress(value=0.0, description='Downloading', max=19.0, style=ProgressStyle(description_w…"
            ]
          },
          "metadata": {
            "tags": []
          }
        },
        {
          "output_type": "stream",
          "text": [
            "\n"
          ],
          "name": "stdout"
        },
        {
          "output_type": "display_data",
          "data": {
            "application/vnd.jupyter.widget-view+json": {
              "model_id": "e7c3f02e795b4ce28b5553ea3c9d6319",
              "version_minor": 0,
              "version_major": 2
            },
            "text/plain": [
              "HBox(children=(FloatProgress(value=0.0, description='Downloading', max=268961.0, style=ProgressStyle(descripti…"
            ]
          },
          "metadata": {
            "tags": []
          }
        },
        {
          "output_type": "stream",
          "text": [
            "\n"
          ],
          "name": "stdout"
        },
        {
          "output_type": "display_data",
          "data": {
            "application/vnd.jupyter.widget-view+json": {
              "model_id": "6bd5e97fa8bd4a9cb24789d2c7bdede4",
              "version_minor": 0,
              "version_major": 2
            },
            "text/plain": [
              "HBox(children=(FloatProgress(value=0.0, description='Downloading', max=690.0, style=ProgressStyle(description_…"
            ]
          },
          "metadata": {
            "tags": []
          }
        },
        {
          "output_type": "stream",
          "text": [
            "\n"
          ],
          "name": "stdout"
        },
        {
          "output_type": "display_data",
          "data": {
            "application/vnd.jupyter.widget-view+json": {
              "model_id": "4b8102dbd58647b09d56b0338def3554",
              "version_minor": 0,
              "version_major": 2
            },
            "text/plain": [
              "HBox(children=(FloatProgress(value=0.0, description='Downloading', max=1302594480.0, style=ProgressStyle(descr…"
            ]
          },
          "metadata": {
            "tags": []
          }
        },
        {
          "output_type": "stream",
          "text": [
            "\n"
          ],
          "name": "stdout"
        },
        {
          "output_type": "stream",
          "text": [
            "All model checkpoint layers were used when initializing TFBertModel.\n",
            "\n",
            "All the layers of TFBertModel were initialized from the model checkpoint at hfl/chinese-roberta-wwm-ext-large.\n",
            "If your task is similar to the task the model of the checkpoint was trained on, you can already use TFBertModel for predictions without further training.\n"
          ],
          "name": "stderr"
        }
      ]
    },
    {
      "cell_type": "code",
      "metadata": {
        "id": "LfSEfhE6vPy9"
      },
      "source": [
        "max_length = 50"
      ],
      "execution_count": null,
      "outputs": []
    },
    {
      "cell_type": "code",
      "metadata": {
        "id": "jv8c0n9RLKAP"
      },
      "source": [
        "roberta = bert.layers[0]"
      ],
      "execution_count": null,
      "outputs": []
    },
    {
      "cell_type": "code",
      "metadata": {
        "id": "5OqXbnUqvf_6"
      },
      "source": [
        "input_ids = Input(shape=(max_length,), name='input_ids', dtype='int32')\n",
        "inputs = {'input_ids': input_ids}\n",
        "\n",
        "#Load the Transformers BERT model as a layer in a Keras model\n",
        "roberta_model = roberta(inputs)[1]\n",
        "dropout = Dropout(config.hidden_dropout_prob, name='pooled_output')\n",
        "pooled_output = dropout(roberta_model, training=False)\n",
        "\n",
        "#output\n",
        "fc1 = Dense(units=512,activation='relu', kernel_initializer=TruncatedNormal(stddev=config.initializer_range), name='fc1')(pooled_output)\n",
        "fc1_output = Dropout(0.1, name='fc1_output')(fc1)\n",
        "subjectivity = Dense(units=2,activation='softmax',kernel_initializer=TruncatedNormal(stddev=config.initializer_range), name='subjectivity')(fc1_output)\n",
        "\n",
        "output = {'label': subjectivity}"
      ],
      "execution_count": null,
      "outputs": []
    },
    {
      "cell_type": "code",
      "metadata": {
        "colab": {
          "base_uri": "https://localhost:8080/"
        },
        "id": "BbHqd63ivzqO",
        "outputId": "6566e852-31c6-463e-cae7-6e3fdea0ff55"
      },
      "source": [
        "#combined\n",
        "model = Model(inputs=inputs, outputs=output, name='ROBERTA')\n",
        "model.summary()"
      ],
      "execution_count": null,
      "outputs": [
        {
          "output_type": "stream",
          "text": [
            "Model: \"ROBERTA\"\n",
            "_________________________________________________________________\n",
            "Layer (type)                 Output Shape              Param #   \n",
            "=================================================================\n",
            "input_ids (InputLayer)       [(None, 50)]              0         \n",
            "_________________________________________________________________\n",
            "bert (TFBertMainLayer)       TFBaseModelOutputWithPool 325522432 \n",
            "_________________________________________________________________\n",
            "pooled_output (Dropout)      (None, 1024)              0         \n",
            "_________________________________________________________________\n",
            "fc1 (Dense)                  (None, 512)               524800    \n",
            "_________________________________________________________________\n",
            "fc1_output (Dropout)         (None, 512)               0         \n",
            "_________________________________________________________________\n",
            "subjectivity (Dense)         (None, 2)                 1026      \n",
            "=================================================================\n",
            "Total params: 326,048,258\n",
            "Trainable params: 326,048,258\n",
            "Non-trainable params: 0\n",
            "_________________________________________________________________\n"
          ],
          "name": "stdout"
        }
      ]
    },
    {
      "cell_type": "code",
      "metadata": {
        "id": "F0JkVfz5v1sg"
      },
      "source": [
        "# optimizer from hugging face transformers\n",
        "from transformers import AdamWeightDecay\n",
        "\n",
        "# define the optimizer\n",
        "optimizer = AdamWeightDecay(lr = 2e-5, weight_decay_rate=0.01)"
      ],
      "execution_count": null,
      "outputs": []
    },
    {
      "cell_type": "code",
      "metadata": {
        "id": "Tx644tmVv9RQ"
      },
      "source": [
        "loss = {'label': CategoricalCrossentropy(from_logits = True)}\n",
        "metric = {'label': CategoricalAccuracy('accuracy')}"
      ],
      "execution_count": null,
      "outputs": []
    },
    {
      "cell_type": "code",
      "metadata": {
        "id": "LsKYIiqxv-qU"
      },
      "source": [
        "model.compile(optimizer = optimizer, loss = loss, metrics = metric)"
      ],
      "execution_count": null,
      "outputs": []
    },
    {
      "cell_type": "code",
      "metadata": {
        "colab": {
          "base_uri": "https://localhost:8080/"
        },
        "id": "x0trsH4_wzzm",
        "outputId": "6ed93cb6-b44c-454c-b9b6-3ea80f0ba363"
      },
      "source": [
        "model.load_weights('/content/gdrive/MyDrive/subbert.ckpt')"
      ],
      "execution_count": null,
      "outputs": [
        {
          "output_type": "execute_result",
          "data": {
            "text/plain": [
              "<tensorflow.python.training.tracking.util.CheckpointLoadStatus at 0x7fae7a41e090>"
            ]
          },
          "metadata": {
            "tags": []
          },
          "execution_count": 19
        }
      ]
    },
    {
      "cell_type": "markdown",
      "metadata": {
        "id": "1GkUmrfpvE3Y"
      },
      "source": [
        "# Load Data, Inference and Filter"
      ]
    },
    {
      "cell_type": "code",
      "metadata": {
        "id": "1hbxHcR0ROjO"
      },
      "source": [
        "files = glob.glob(\"gdrive/MyDrive/RMBI_FYP/August data/*.csv\")\n",
        "for f in files:\n",
        "    data = pd.read_csv(f)\n",
        "    data['ct'] = data['ct'].astype('str')\n",
        "    data_x = tokenizer(text=data['ct'].to_list(), add_special_tokens=True, max_length=max_length, truncation=True, padding=True, return_tensors='tf', return_token_type_ids = False, return_attention_mask = False, verbose = True)\n",
        "    y_pred = model.predict(x={'input_ids': data_x['input_ids']})\n",
        "    y_pred_label = np.argmax(y_pred['label'], axis=1)\n",
        "    data[['subjectivity']] = y_pred_label\n",
        "    data = data[data['subjectivity'] == 1]\n",
        "    data.drop(labels = ['Unnamed: 0', 'subjectivity'], axis=1, inplace=True)\n",
        "    data.to_csv(f,index=False)"
      ],
      "execution_count": null,
      "outputs": []
    },
    {
      "cell_type": "markdown",
      "metadata": {
        "id": "jS78YYEpTS2I"
      },
      "source": [
        "# Old Code For Reference"
      ]
    },
    {
      "cell_type": "code",
      "metadata": {
        "id": "hmrf8ZcnNUtX"
      },
      "source": [
        "data = pd.read_csv(\"gdrive/MyDrive/RMBI_FYP/August data/20160801.csv\")"
      ],
      "execution_count": null,
      "outputs": []
    },
    {
      "cell_type": "code",
      "metadata": {
        "colab": {
          "base_uri": "https://localhost:8080/",
          "height": 190
        },
        "id": "WM3_QPRMu-yp",
        "outputId": "5ce89c15-1542-4397-d86a-cbea18b6a517"
      },
      "source": [
        "data['ct'] = data['ct'].astype('str') \n",
        "data.head()"
      ],
      "execution_count": null,
      "outputs": [
        {
          "output_type": "execute_result",
          "data": {
            "text/html": [
              "<div>\n",
              "<style scoped>\n",
              "    .dataframe tbody tr th:only-of-type {\n",
              "        vertical-align: middle;\n",
              "    }\n",
              "\n",
              "    .dataframe tbody tr th {\n",
              "        vertical-align: top;\n",
              "    }\n",
              "\n",
              "    .dataframe thead th {\n",
              "        text-align: right;\n",
              "    }\n",
              "</style>\n",
              "<table border=\"1\" class=\"dataframe\">\n",
              "  <thead>\n",
              "    <tr style=\"text-align: right;\">\n",
              "      <th></th>\n",
              "      <th>Unnamed: 0</th>\n",
              "      <th>_id</th>\n",
              "      <th>au</th>\n",
              "      <th>ct</th>\n",
              "      <th>hl</th>\n",
              "      <th>st</th>\n",
              "    </tr>\n",
              "  </thead>\n",
              "  <tbody>\n",
              "    <tr>\n",
              "      <th>0</th>\n",
              "      <td>0</td>\n",
              "      <td>201608013044537</td>\n",
              "      <td>ZDSZWDJN</td>\n",
              "      <td>一萬多億的盤子，二萬多億的公司資產\\n</td>\n",
              "      <td>一萬多億的盤子，二萬多億的公司資產</td>\n",
              "      <td>600028.sh</td>\n",
              "    </tr>\n",
              "    <tr>\n",
              "      <th>1</th>\n",
              "      <td>2</td>\n",
              "      <td>201608013044636</td>\n",
              "      <td>江西贛州網友</td>\n",
              "      <td>京東方三大股東承諾半年不減持在7月28號到期，這些王八蛋7月28和29號連著倆天出貨,成本2...</td>\n",
              "      <td>告全體散戶朋友書</td>\n",
              "      <td>000725.sz</td>\n",
              "    </tr>\n",
              "    <tr>\n",
              "      <th>2</th>\n",
              "      <td>5</td>\n",
              "      <td>201608013044693</td>\n",
              "      <td>美的克星</td>\n",
              "      <td>上央視，跌不止，坑散戶，真無恥\\n</td>\n",
              "      <td>上央視，跌不止，坑散戶，真無恥</td>\n",
              "      <td>000725.sz</td>\n",
              "    </tr>\n",
              "    <tr>\n",
              "      <th>3</th>\n",
              "      <td>8</td>\n",
              "      <td>201608013044698</td>\n",
              "      <td>竹凡語北燦</td>\n",
              "      <td>暴跌後怎麼辦？重大盤不如重個股，數股異軍突起或成明日之星，20點收益等待入場信號，可跟進之前\\n</td>\n",
              "      <td>暴跌後怎麼辦？重大盤不如重個股，數股異軍突起或成明日之星，20點收益等待入場信號</td>\n",
              "      <td>600109.sh</td>\n",
              "    </tr>\n",
              "    <tr>\n",
              "      <th>4</th>\n",
              "      <td>12</td>\n",
              "      <td>201608013044734</td>\n",
              "      <td>股友ssMPnT</td>\n",
              "      <td>每個股吧都有京東方打的廣告！\\n</td>\n",
              "      <td>每個股吧都有京東方打的廣告！</td>\n",
              "      <td>000725.sz</td>\n",
              "    </tr>\n",
              "  </tbody>\n",
              "</table>\n",
              "</div>"
            ],
            "text/plain": [
              "   Unnamed: 0  ...         st\n",
              "0           0  ...  600028.sh\n",
              "1           2  ...  000725.sz\n",
              "2           5  ...  000725.sz\n",
              "3           8  ...  600109.sh\n",
              "4          12  ...  000725.sz\n",
              "\n",
              "[5 rows x 6 columns]"
            ]
          },
          "metadata": {
            "tags": []
          },
          "execution_count": 21
        }
      ]
    },
    {
      "cell_type": "markdown",
      "metadata": {
        "id": "2phjQXtExQ7b"
      },
      "source": [
        "# Inference"
      ]
    },
    {
      "cell_type": "code",
      "metadata": {
        "id": "nhPyA72ew73O"
      },
      "source": [
        "data_x = tokenizer(text=data['ct'].to_list(), add_special_tokens=True, max_length=max_length, truncation=True, padding=True, return_tensors='tf', return_token_type_ids = False, return_attention_mask = False, verbose = True)"
      ],
      "execution_count": null,
      "outputs": []
    },
    {
      "cell_type": "code",
      "metadata": {
        "id": "w4KTcUD_xZcf"
      },
      "source": [
        "y_pred = model.predict(x={'input_ids': data_x['input_ids']})"
      ],
      "execution_count": null,
      "outputs": []
    },
    {
      "cell_type": "code",
      "metadata": {
        "colab": {
          "base_uri": "https://localhost:8080/"
        },
        "id": "Eu6tbCKsyf3b",
        "outputId": "9f0a085e-2f41-40db-ca56-a8bbf38f04b5"
      },
      "source": [
        "y_pred"
      ],
      "execution_count": null,
      "outputs": [
        {
          "output_type": "execute_result",
          "data": {
            "text/plain": [
              "{'label': array([[0.00431316, 0.9956868 ],\n",
              "        [0.00150657, 0.99849343],\n",
              "        [0.00150552, 0.9984945 ],\n",
              "        ...,\n",
              "        [0.00337283, 0.9966272 ],\n",
              "        [0.00173076, 0.9982692 ],\n",
              "        [0.12868291, 0.8713171 ]], dtype=float32)}"
            ]
          },
          "metadata": {
            "tags": []
          },
          "execution_count": 24
        }
      ]
    },
    {
      "cell_type": "code",
      "metadata": {
        "colab": {
          "base_uri": "https://localhost:8080/"
        },
        "id": "h3SQbGZc0YlI",
        "outputId": "303acd60-3d4b-4e7d-e1f1-a80c620ad3de"
      },
      "source": [
        "y_pred_label = np.argmax(y_pred['label'], axis=1)\n",
        "y_pred_label"
      ],
      "execution_count": null,
      "outputs": [
        {
          "output_type": "execute_result",
          "data": {
            "text/plain": [
              "array([1, 1, 1, ..., 1, 1, 1])"
            ]
          },
          "metadata": {
            "tags": []
          },
          "execution_count": 26
        }
      ]
    },
    {
      "cell_type": "code",
      "metadata": {
        "id": "TI3q4u6I4NVY"
      },
      "source": [
        "data[['subjectivity']] = y_pred_label"
      ],
      "execution_count": null,
      "outputs": []
    },
    {
      "cell_type": "code",
      "metadata": {
        "id": "SkOs-hg85ByN"
      },
      "source": [
        "data = data[data['subjectivity'] == 1]"
      ],
      "execution_count": null,
      "outputs": []
    },
    {
      "cell_type": "code",
      "metadata": {
        "colab": {
          "base_uri": "https://localhost:8080/"
        },
        "id": "uTBVj1tkO5m2",
        "outputId": "cce087d4-e101-42c2-ffd0-f0c147552e03"
      },
      "source": [
        "data.drop(labels = ['Unnamed: 0', 'subjectivity'], axis=1, inplace=True)"
      ],
      "execution_count": null,
      "outputs": [
        {
          "output_type": "stream",
          "text": [
            "/usr/local/lib/python3.7/dist-packages/pandas/core/frame.py:4174: SettingWithCopyWarning: \n",
            "A value is trying to be set on a copy of a slice from a DataFrame\n",
            "\n",
            "See the caveats in the documentation: https://pandas.pydata.org/pandas-docs/stable/user_guide/indexing.html#returning-a-view-versus-a-copy\n",
            "  errors=errors,\n"
          ],
          "name": "stderr"
        }
      ]
    },
    {
      "cell_type": "code",
      "metadata": {
        "id": "b5wJkV3zO779"
      },
      "source": [
        "data.reset_index(drop=True,inplace=True)"
      ],
      "execution_count": null,
      "outputs": []
    },
    {
      "cell_type": "code",
      "metadata": {
        "id": "1gcampkbQJLU"
      },
      "source": [
        "data.to_csv('test.csv',index=False)"
      ],
      "execution_count": null,
      "outputs": []
    },
    {
      "cell_type": "code",
      "metadata": {
        "id": "AVG-2gLAQ2me"
      },
      "source": [
        ""
      ],
      "execution_count": null,
      "outputs": []
    }
  ]
}